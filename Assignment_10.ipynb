{
 "cells": [
  {
   "cell_type": "code",
   "execution_count": 2,
   "id": "c7c2047e",
   "metadata": {},
   "outputs": [
    {
     "name": "stdout",
     "output_type": "stream",
     "text": [
      "21\n"
     ]
    }
   ],
   "source": [
    "#1.Write a Python program to find sum of elements in list?\n",
    "lis = [1,2,3,4,5,6,'seven']\n",
    "t_sum = 0\n",
    "for i in lis:\n",
    "    if type(i) == int:\n",
    "        t_sum += i\n",
    "print(t_sum)\n"
   ]
  },
  {
   "cell_type": "code",
   "execution_count": 4,
   "id": "7f56134c",
   "metadata": {},
   "outputs": [
    {
     "name": "stdout",
     "output_type": "stream",
     "text": [
      "720\n"
     ]
    }
   ],
   "source": [
    "#2.Write a Python program to  Multiply all numbers in the list?\n",
    "lis = [1,2,3,4,5,6,'seven']\n",
    "t_sum = 1\n",
    "for i in lis:\n",
    "    if type(i) == int:\n",
    "        t_sum = t_sum * i\n",
    "print(t_sum)"
   ]
  },
  {
   "cell_type": "code",
   "execution_count": 6,
   "id": "8d4fc65f",
   "metadata": {},
   "outputs": [
    {
     "name": "stdout",
     "output_type": "stream",
     "text": [
      "1\n"
     ]
    }
   ],
   "source": [
    "#3.Write a Python program to find smallest number in a list?\n",
    "lis = [1,2,3,4,5,6]\n",
    "print(min(lis))"
   ]
  },
  {
   "cell_type": "code",
   "execution_count": 7,
   "id": "7162d629",
   "metadata": {},
   "outputs": [
    {
     "name": "stdout",
     "output_type": "stream",
     "text": [
      "6\n"
     ]
    }
   ],
   "source": [
    "#4.Write a Python program to find largest number in a list?\n",
    "lis = [1,2,3,4,5,6]\n",
    "print(max(lis))"
   ]
  },
  {
   "cell_type": "code",
   "execution_count": 10,
   "id": "2625f3cd",
   "metadata": {},
   "outputs": [
    {
     "name": "stdout",
     "output_type": "stream",
     "text": [
      "6\n"
     ]
    }
   ],
   "source": [
    "#5.Write a Python program to find second largest number in a list?\n",
    "lis = [1,2,21,3,4,5,6,0]\n",
    "temp_lis = sorted(lis)\n",
    "print(temp_lis[-2])"
   ]
  },
  {
   "cell_type": "code",
   "execution_count": 15,
   "id": "fb507627",
   "metadata": {},
   "outputs": [
    {
     "name": "stdout",
     "output_type": "stream",
     "text": [
      "enter a input7\n",
      "21\n"
     ]
    }
   ],
   "source": [
    "#6.Write a Python program to find N largest elements from a list?\n",
    "n = int(input('enter a input'))\n",
    "lis = [1,2,21,3,4,5,6,0]\n",
    "temp_lis = sorted(lis)\n",
    "print(temp_lis[n])"
   ]
  },
  {
   "cell_type": "code",
   "execution_count": 18,
   "id": "bbc212b5",
   "metadata": {},
   "outputs": [
    {
     "name": "stdout",
     "output_type": "stream",
     "text": [
      "[2, 4, 6, 8]\n"
     ]
    }
   ],
   "source": [
    "#7.Write a Python program to print even numbers in a list?\n",
    "lis = [1,2,3,4,5,6,7,8,9]\n",
    "lis1 = []\n",
    "for i in lis:\n",
    "    if i%2 == 0:\n",
    "        lis1.append(i)\n",
    "print(lis1)\n",
    "        "
   ]
  },
  {
   "cell_type": "code",
   "execution_count": 19,
   "id": "68232313",
   "metadata": {},
   "outputs": [
    {
     "name": "stdout",
     "output_type": "stream",
     "text": [
      "[1, 3, 5, 7, 9]\n"
     ]
    }
   ],
   "source": [
    "#8.Write a Python program to print odd numbers in a List?\n",
    "lis = [1,2,3,4,5,6,7,8,9]\n",
    "lis1 = []\n",
    "for i in lis:\n",
    "    if i%2 != 0:\n",
    "        lis1.append(i)\n",
    "print(lis1)"
   ]
  },
  {
   "cell_type": "code",
   "execution_count": 23,
   "id": "f9ad2f40",
   "metadata": {},
   "outputs": [
    {
     "name": "stdout",
     "output_type": "stream",
     "text": [
      "[1, 2, 3, 4, 6, 7, 8, [1, 2, 3]]\n"
     ]
    }
   ],
   "source": [
    "#9.Write a Python program to Remove empty List from List?\n",
    "lis = [1,2,3,4,[],6,7,8,[1,2,3]]\n",
    "for i in lis:\n",
    "    if type(i) == list:\n",
    "        if len(i) == 0:\n",
    "            lis.remove(i)\n",
    "print(lis)"
   ]
  },
  {
   "cell_type": "code",
   "execution_count": 24,
   "id": "038eca68",
   "metadata": {},
   "outputs": [
    {
     "name": "stdout",
     "output_type": "stream",
     "text": [
      "orginal list : [1, 2, 3, 4, [], 6, 7, 8, [1, 2, 3]] , copy list [1, 2, 3, 4, [], 6, 7, 8, [1, 2, 3]]\n"
     ]
    }
   ],
   "source": [
    "#10.Write a Python program to Cloning or Copying a list?\n",
    "org_lis = [1,2,3,4,[],6,7,8,[1,2,3]]\n",
    "copy_lis = []\n",
    "#copying list\n",
    "copy_lis = org_lis[:]\n",
    "print(f'orginal list : {org_lis} , copy list {copy_lis}')"
   ]
  },
  {
   "cell_type": "code",
   "execution_count": 27,
   "id": "b34da975",
   "metadata": {},
   "outputs": [
    {
     "name": "stdout",
     "output_type": "stream",
     "text": [
      "element : 1 , occurance 6\n",
      "element : 2 , occurance 2\n",
      "element : 3 , occurance 2\n",
      "element : 4 , occurance 1\n",
      "element : 6 , occurance 1\n",
      "element : 7 , occurance 1\n",
      "element : 8 , occurance 1\n"
     ]
    }
   ],
   "source": [
    "#Write a Python program to Count occurrences of an element in a list?\n",
    "org_lis = [1,2,2,3,1,1,1,1,1,3,4,6,7,8]\n",
    "temp = set(org_lis)\n",
    "#copying list\n",
    "for i in temp:\n",
    "    occu = org_lis.count(i)\n",
    "    print(f'element : {i} , occurance {occu}')"
   ]
  },
  {
   "cell_type": "code",
   "execution_count": null,
   "id": "856f738c",
   "metadata": {},
   "outputs": [],
   "source": []
  }
 ],
 "metadata": {
  "kernelspec": {
   "display_name": "Python 3 (ipykernel)",
   "language": "python",
   "name": "python3"
  },
  "language_info": {
   "codemirror_mode": {
    "name": "ipython",
    "version": 3
   },
   "file_extension": ".py",
   "mimetype": "text/x-python",
   "name": "python",
   "nbconvert_exporter": "python",
   "pygments_lexer": "ipython3",
   "version": "3.9.7"
  }
 },
 "nbformat": 4,
 "nbformat_minor": 5
}
