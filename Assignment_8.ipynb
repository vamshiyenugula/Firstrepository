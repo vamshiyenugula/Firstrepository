{
 "cells": [
  {
   "cell_type": "code",
   "execution_count": 46,
   "id": "41894fd1",
   "metadata": {},
   "outputs": [
    {
     "name": "stdout",
     "output_type": "stream",
     "text": [
      "[[2, 4, 6], [8, 10, 12], [14, 16, 18]]\n"
     ]
    }
   ],
   "source": [
    "#1. Write a Python Program to Add Two Matrices?\n",
    "# Matrices 1\n",
    "a = [[1,2,3],[4,5,6],[7,8,9]]\n",
    "b = [[1,2,3],[4,5,6],[7,8,9]]\n",
    "row_leangth1 = len(a)\n",
    "if type(a[0]) == list :\n",
    "    column_leangth1 = len(a[0])\n",
    "elif type(a[0]) == int:\n",
    "    column_leangth1 = 1\n",
    "else:\n",
    "    column_leangth1 = 0\n",
    "    \n",
    "# Matrices 2\n",
    "\n",
    "row_leangth2 = len(b)\n",
    "if type(b[0]) == list :\n",
    "    column_leangth2 = len(b[0])\n",
    "elif type(b[0]) == int:\n",
    "    column_leangth2 = 1\n",
    "else:\n",
    "    column_leangth2 = 0\n",
    "#result matrices\n",
    "res = []\n",
    "for i in range(row_leangth1):\n",
    "    s ='temp'+str(i)\n",
    "    s =[]\n",
    "    for j in range(column_leangth1):\n",
    "        s.append(0)\n",
    "    res.append(s)\n",
    "#addition\n",
    "if row_leangth1 == 0 or row_leangth2 == 0 or column_leangth1 == 0 or column_leangth2 == 0:\n",
    "    print(\"Please enter two matrices\")\n",
    "elif (column_leangth1 != column_leangth2) and (row_leangth2 != row_leangth1):\n",
    "    print(\"Matrices addition is not possible\")\n",
    "else:\n",
    "    for i in range(row_leangth1):\n",
    "        for j in range(column_leangth1):\n",
    "            res[i][j]=a[i][j]+b[i][j]\n",
    "                    \n",
    "print(res)\n",
    "         \n",
    "    "
   ]
  },
  {
   "cell_type": "code",
   "execution_count": 49,
   "id": "03d8d6f7",
   "metadata": {},
   "outputs": [
    {
     "name": "stdout",
     "output_type": "stream",
     "text": [
      "[[0, 0, 0], [0, 0, 0], [0, 0, 0]]\n",
      "[[30, 36, 42], [66, 81, 96], [102, 126, 150]]\n"
     ]
    }
   ],
   "source": [
    "#2. Write a Python Program to Multiply Two Matrices?\n",
    "a = [[1,2,3],[4,5,6],[7,8,9]]\n",
    "b = [[1,2,3],[4,5,6],[7,8,9]]\n",
    "row_leangth1 = len(a)\n",
    "if type(a[0]) == list :\n",
    "    column_leangth1 = len(a[0])\n",
    "elif type(a[0]) == int:\n",
    "    column_leangth1 = 1\n",
    "else:\n",
    "    column_leangth1 = 0\n",
    "    \n",
    "# Matrices 2\n",
    "\n",
    "row_leangth2 = len(b)\n",
    "if type(b[0]) == list :\n",
    "    column_leangth2 = len(b[0])\n",
    "elif type(b[0]) == int:\n",
    "    column_leangth2 = 1\n",
    "else:\n",
    "    column_leangth2 = 0\n",
    "#result matrices\n",
    "res = []\n",
    "for i in range(row_leangth1):\n",
    "    s ='temp'+str(i)\n",
    "    s =[]\n",
    "    for j in range(column_leangth2):\n",
    "        s.append(0)\n",
    "    res.append(s)\n",
    "#Multiplication\n",
    "if row_leangth1 == 0 or row_leangth2 == 0 or column_leangth1 == 0 or column_leangth2 == 0:\n",
    "    print(\"Please enter two matrices\")\n",
    "elif (column_leangth1 != row_leangth2):\n",
    "    print(\"Matrices Multiplication is not possible\")\n",
    "else:\n",
    "    for i in range(row_leangth1):\n",
    "        t_sum = 0\n",
    "        for j in range(column_leangth1):\n",
    "            for k in range(len(b)):\n",
    "                res[i][j] += a[i][k] * b[k][j]\n",
    "                    \n",
    "print(res)\n"
   ]
  },
  {
   "cell_type": "code",
   "execution_count": 6,
   "id": "25795266",
   "metadata": {},
   "outputs": [
    {
     "name": "stdout",
     "output_type": "stream",
     "text": [
      "[[1 5]\n",
      " [2 4]\n",
      " [3 3]\n",
      " [4 2]\n",
      " [5 1]]\n"
     ]
    }
   ],
   "source": [
    "#3. Write a Python Program to Transpose a Matrix?\n",
    "import numpy as np\n",
    "a = np.array([[1,2,3,4,5],[5,4,3,2,1]])\n",
    "trans_a=a.transpose()\n",
    "print(trans_a)\n"
   ]
  },
  {
   "cell_type": "code",
   "execution_count": 10,
   "id": "685f72be",
   "metadata": {},
   "outputs": [
    {
     "name": "stdout",
     "output_type": "stream",
     "text": [
      "how many of words you want to enter :5\n",
      "enter a word :one\n",
      "enter a word :two\n",
      "enter a word :four\n",
      "enter a word :six\n",
      "enter a word :eight\n",
      "['eight', 'four', 'one', 'six', 'two']\n"
     ]
    }
   ],
   "source": [
    "#4. Write a Python Program to Sort Words in Alphabetic Order?\n",
    "words = []\n",
    "try:\n",
    "    num = int(input(\"how many of words you want to enter :\"))\n",
    "except Exception as err:\n",
    "    print(err)\n",
    "while True:\n",
    "    inp = input(\"enter a word :\")\n",
    "    words.append(inp)\n",
    "    if(len(words) == num):\n",
    "        break\n",
    "print(sorted(words))\n"
   ]
  },
  {
   "cell_type": "code",
   "execution_count": 11,
   "id": "c909a871",
   "metadata": {},
   "outputs": [
    {
     "name": "stdout",
     "output_type": "stream",
     "text": [
      "enter any string : jdv3uogri2@gcdgs,uguig.()\n",
      "jdv3uogri2gcdgsuguig\n"
     ]
    }
   ],
   "source": [
    "#5. Write a Python Program to Remove Punctuation From a String?\n",
    "input_str = str(input('enter any string : '))\n",
    "out_str = ''\n",
    "for i in input_str:\n",
    "    if ((48 <= ord(i) <= 57) or (65 <= ord(i) <=90) or (97 <= ord(i) <=122)):\n",
    "        out_str += i\n",
    "print(out_str)"
   ]
  },
  {
   "cell_type": "code",
   "execution_count": null,
   "id": "779282f7",
   "metadata": {},
   "outputs": [],
   "source": []
  },
  {
   "cell_type": "code",
   "execution_count": null,
   "id": "2f92cb42",
   "metadata": {},
   "outputs": [],
   "source": []
  },
  {
   "cell_type": "code",
   "execution_count": null,
   "id": "deea4762",
   "metadata": {},
   "outputs": [],
   "source": []
  },
  {
   "cell_type": "code",
   "execution_count": null,
   "id": "1b5fbbf7",
   "metadata": {},
   "outputs": [],
   "source": []
  }
 ],
 "metadata": {
  "kernelspec": {
   "display_name": "Python 3 (ipykernel)",
   "language": "python",
   "name": "python3"
  },
  "language_info": {
   "codemirror_mode": {
    "name": "ipython",
    "version": 3
   },
   "file_extension": ".py",
   "mimetype": "text/x-python",
   "name": "python",
   "nbconvert_exporter": "python",
   "pygments_lexer": "ipython3",
   "version": "3.9.7"
  }
 },
 "nbformat": 4,
 "nbformat_minor": 5
}
