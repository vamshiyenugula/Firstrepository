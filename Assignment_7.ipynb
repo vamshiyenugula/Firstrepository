{
 "cells": [
  {
   "cell_type": "code",
   "execution_count": 8,
   "id": "a12acb80",
   "metadata": {},
   "outputs": [
    {
     "name": "stdout",
     "output_type": "stream",
     "text": [
      "enter how many numbers you want to enter : 10\n",
      "enter a number into array : 10\n",
      "enter a number into array : 10\n",
      "enter a number into array : 10\n",
      "enter a number into array : 10\n",
      "enter a number into array : 10\n",
      "enter a number into array : 10\n",
      "enter a number into array : 10\n",
      "enter a number into array : 10\n",
      "enter a number into array : 10\n",
      "enter a number into array : 10\n",
      "The sum of elements in an array is 100\n"
     ]
    }
   ],
   "source": [
    "#1. Write a Python Program to find sum of array?\n",
    "import array as arr\n",
    "num = int(input(\"enter how many numbers you want to enter : \"))\n",
    "a = arr.array('i',[])\n",
    "count = 0\n",
    "while count<num:\n",
    "    temp = int(input(\"enter a number into array : \"))\n",
    "    a.append(temp)\n",
    "    count = count+1\n",
    "#sum of an array\n",
    "s = 0\n",
    "for i in a:\n",
    "    s+=i\n",
    "print(f'The sum of elements in an array is {s}')"
   ]
  },
  {
   "cell_type": "code",
   "execution_count": 11,
   "id": "5f1d6525",
   "metadata": {},
   "outputs": [
    {
     "name": "stdout",
     "output_type": "stream",
     "text": [
      "enter how many numbers you want to enter : 10\n",
      "enter a number into array : 100\n",
      "enter a number into array : 45\n",
      "enter a number into array : 68\n",
      "enter a number into array : 76\n",
      "enter a number into array : 23\n",
      "enter a number into array : 1\n",
      "enter a number into array : 988\n",
      "enter a number into array : 56\n",
      "enter a number into array : 23\n",
      "enter a number into array : 5\n",
      "The largest number in an array is 988\n"
     ]
    }
   ],
   "source": [
    "#2. Write a Python Program to find largest element in an array?\n",
    "import array as arr\n",
    "num = int(input(\"enter how many numbers you want to enter : \"))\n",
    "a = arr.array('i',[])\n",
    "count = 0\n",
    "while count<num:\n",
    "    temp = int(input(\"enter a number into array : \"))\n",
    "    a.append(temp)\n",
    "    count = count+1\n",
    "\n",
    "#Finding largest number\n",
    "largest = a[0]\n",
    "for i in a:\n",
    "    if i > largest:\n",
    "        largest = i\n",
    "print(f'The largest number in an array is {largest}')"
   ]
  },
  {
   "cell_type": "code",
   "execution_count": 29,
   "id": "e1dc7786",
   "metadata": {},
   "outputs": [
    {
     "name": "stdout",
     "output_type": "stream",
     "text": [
      "enter how many numbers you want to enter : 6\n",
      "enter a number into array : 1\n",
      "enter a number into array : 2\n",
      "enter a number into array : 3\n",
      "enter a number into array : 4\n",
      "enter a number into array : 5\n",
      "enter a number into array : 6\n",
      "enter number of rotations : 3\n",
      "Array after 3 is [4, 5, 6, 1, 2, 3]\n"
     ]
    }
   ],
   "source": [
    "#3. Write a Python Program for array rotation?\n",
    "\n",
    "import array as arr\n",
    "num = int(input(\"enter how many numbers you want to enter : \"))\n",
    "a = arr.array('i',[])\n",
    "count = 0\n",
    "while count<num:\n",
    "    temp = int(input(\"enter a number into array : \"))\n",
    "    a.append(temp)\n",
    "    count = count+1\n",
    "    \n",
    "#program for array rotation\n",
    "\n",
    "rot = int(input(\"enter number of rotations : \"))\n",
    "b = []\n",
    "for i in range(rot):\n",
    "    for i in range(len(a)):\n",
    "        if i == 0:\n",
    "            b.insert(i,a[len(a)-1])\n",
    "        else:\n",
    "            b.insert(i,a[i-1])\n",
    "    a = b[:]\n",
    "    b.clear()\n",
    "print(f'Array after {rot} is {a}')"
   ]
  },
  {
   "cell_type": "code",
   "execution_count": 6,
   "id": "fada51c8",
   "metadata": {},
   "outputs": [
    {
     "name": "stdout",
     "output_type": "stream",
     "text": [
      "enter how many numbers you want to enter : 4\n",
      "enter a number into array : 10\n",
      "enter a number into array : 12\n",
      "enter a number into array : 14\n",
      "enter a number into array : 16\n",
      "4\n",
      "array('i', [10, 12, 14, 16, 10, 12])\n"
     ]
    }
   ],
   "source": [
    "#4. Write a Python Program to Split the array and add the first part to the end?\n",
    "\n",
    "import array as arr\n",
    "num = int(input(\"enter how many numbers you want to enter : \"))\n",
    "a = arr.array('i',[])\n",
    "count = 0\n",
    "while count<num:\n",
    "    temp = int(input(\"enter a number into array : \"))\n",
    "    a.append(temp)\n",
    "    count = count+1\n",
    "    \n",
    "b = a[:]\n",
    "for i in range(int(len(b)/2)):\n",
    "    a.append(b[i])\n",
    "print(a)\n",
    "    \n",
    "    "
   ]
  },
  {
   "cell_type": "code",
   "execution_count": 16,
   "id": "acfd3b30",
   "metadata": {},
   "outputs": [
    {
     "name": "stdout",
     "output_type": "stream",
     "text": [
      "enter how many numbers you want to enter : 5\n",
      "enter a number into array : 1\n",
      "enter a number into array : 2\n",
      "enter a number into array : 3\n",
      "enter a number into array : 4\n",
      "enter a number into array : 5\n",
      "array('i', [1, 2, 3, 4, 5])\n",
      "The array is monotonic\n"
     ]
    }
   ],
   "source": [
    "#5. Write a Python Program to check if given array is Monotonic?\n",
    "import array as arr\n",
    "num = int(input(\"enter how many numbers you want to enter : \"))\n",
    "a = arr.array('i',[])\n",
    "count = 0\n",
    "while count<num:\n",
    "    temp = int(input(\"enter a number into array : \"))\n",
    "    a.append(temp)\n",
    "    count = count+1\n",
    "print(a)\n",
    "asc = 0\n",
    "dsc = 0\n",
    "for i in range(len(a)-1):\n",
    "    if a[i] >=a[i+1]:\n",
    "        asc = asc+1\n",
    "    elif a[i]<=a[i+1]:\n",
    "        dsc=dsc+1\n",
    "if asc==(len(a)-1) or dsc == (len(a)-1):\n",
    "    print(\"The array is monotonic\")\n",
    "else:\n",
    "    print(\"The array is not monotonic\")\n",
    "        "
   ]
  },
  {
   "cell_type": "code",
   "execution_count": null,
   "id": "ef1746af",
   "metadata": {},
   "outputs": [],
   "source": []
  }
 ],
 "metadata": {
  "kernelspec": {
   "display_name": "Python 3 (ipykernel)",
   "language": "python",
   "name": "python3"
  },
  "language_info": {
   "codemirror_mode": {
    "name": "ipython",
    "version": 3
   },
   "file_extension": ".py",
   "mimetype": "text/x-python",
   "name": "python",
   "nbconvert_exporter": "python",
   "pygments_lexer": "ipython3",
   "version": "3.9.7"
  }
 },
 "nbformat": 4,
 "nbformat_minor": 5
}
