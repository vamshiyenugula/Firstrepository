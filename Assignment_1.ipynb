{
 "cells": [
  {
   "cell_type": "code",
   "execution_count": null,
   "id": "bf8adad2",
   "metadata": {},
   "outputs": [],
   "source": [
    "#1.Write a Python program to print \"Hello Python\"?\n",
    "\n",
    "print(\"Hello Python\")"
   ]
  },
  {
   "cell_type": "code",
   "execution_count": null,
   "id": "50ffd3d9",
   "metadata": {},
   "outputs": [],
   "source": [
    "#2.Write a Python program to do arithmetical operations addition and division.?\n",
    "a = 10\n",
    "b = 10\n",
    "\n",
    "a + b # Addition\n",
    "\n",
    "a / b # Division"
   ]
  },
  {
   "cell_type": "code",
   "execution_count": null,
   "id": "774213e4",
   "metadata": {},
   "outputs": [],
   "source": [
    "#3.Write a Python program to find the area of a triangle?\n",
    "\n"
   ]
  },
  {
   "cell_type": "code",
   "execution_count": null,
   "id": "ecb1b014",
   "metadata": {},
   "outputs": [],
   "source": [
    "#4.Write a Python program to swap two variables?\n",
    "a = 10\n",
    "b = 11\n",
    "\n",
    "# program to swap \n",
    "\n",
    "c = a\n",
    "a = b\n",
    "b = c\n",
    "\n"
   ]
  },
  {
   "cell_type": "code",
   "execution_count": 7,
   "id": "40515926",
   "metadata": {},
   "outputs": [],
   "source": [
    "#5.Write a Python program to generate a random number?\n",
    "import random\n",
    "\n",
    "a = random.random()\n"
   ]
  },
  {
   "cell_type": "code",
   "execution_count": null,
   "id": "36ff9bb0",
   "metadata": {},
   "outputs": [],
   "source": []
  },
  {
   "cell_type": "code",
   "execution_count": null,
   "id": "9bfe3c89",
   "metadata": {},
   "outputs": [],
   "source": []
  }
 ],
 "metadata": {
  "kernelspec": {
   "display_name": "Python 3 (ipykernel)",
   "language": "python",
   "name": "python3"
  },
  "language_info": {
   "codemirror_mode": {
    "name": "ipython",
    "version": 3
   },
   "file_extension": ".py",
   "mimetype": "text/x-python",
   "name": "python",
   "nbconvert_exporter": "python",
   "pygments_lexer": "ipython3",
   "version": "3.9.7"
  }
 },
 "nbformat": 4,
 "nbformat_minor": 5
}
