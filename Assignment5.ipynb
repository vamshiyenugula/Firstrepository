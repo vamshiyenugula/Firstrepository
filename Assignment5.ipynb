{
 "cells": [
  {
   "cell_type": "markdown",
   "id": "ba1b4df7",
   "metadata": {},
   "source": [
    "'''\n",
    "1. What does an empty dictionary's code look like?\n",
    "\n",
    "'''\n",
    "Ans:\n",
    "\n",
    "There is not such kind , an empty dictiniory is simply a set.\n"
   ]
  },
  {
   "cell_type": "markdown",
   "id": "76d5baa3",
   "metadata": {},
   "source": [
    "'''\n",
    "2. What is the value of a dictionary value with the key 'foo' and the value 42?\n",
    "\n",
    "'''\n",
    "Ans:\n",
    "\n",
    "42"
   ]
  },
  {
   "cell_type": "markdown",
   "id": "0a10ffa3",
   "metadata": {},
   "source": [
    "'''\n",
    "3. What is the most significant distinction between a dictionary and a list?\n",
    "\n",
    "'''\n",
    "Ans:\n",
    "Dictionary is key value pair which is used to store multiple data's of same thing and access using keys.\n",
    "\n",
    "List is ordered datatype where we can store any data."
   ]
  },
  {
   "cell_type": "markdown",
   "id": "e48fec6b",
   "metadata": {},
   "source": [
    "'''\n",
    "4. What happens if you try to access spam['foo'] if spam is {'bar': 100}?\n",
    "\n",
    "'''\n",
    "Ans:\n",
    "It will throw an error like key is not there"
   ]
  },
  {
   "cell_type": "markdown",
   "id": "32250587",
   "metadata": {},
   "source": [
    "'''\n",
    "5. If a dictionary is stored in spam, what is the difference between the expressions 'cat' in spam and 'cat' in spam.keys()?\n",
    "\n",
    "'''\n",
    "Ans:\n",
    "\n",
    "Operation wise there is no difference"
   ]
  },
  {
   "cell_type": "markdown",
   "id": "530e5327",
   "metadata": {},
   "source": [
    "'''\n",
    "6. If a dictionary is stored in spam, what is the difference between the expressions 'cat' in spam and 'cat' in spam.values()?\n",
    "\n",
    "'''\n",
    "Ans:\n",
    "\n",
    "'cat' in spam means , by default it will search 'cat' in keys of dictionary\n",
    "\n",
    "'cat' in spam.values() , it will search 'cat' in values of dictionary"
   ]
  },
  {
   "cell_type": "markdown",
   "id": "528dc865",
   "metadata": {},
   "source": [
    "'''\n",
    "7. What is a shortcut for the following code?\n",
    "if 'color' not in spam:\n",
    "spam['color'] = 'black'\n",
    "\n",
    "'''\n",
    "if 'color' not in spam : spam['color'] = 'black'"
   ]
  },
  {
   "cell_type": "markdown",
   "id": "a278735a",
   "metadata": {},
   "source": [
    "'''\n",
    "8. How do you \"pretty print\" dictionary values using which module and function?\n",
    "\n",
    "'''\n",
    "import pprint\n",
    "d = {'k1':'vamshi','k2':'krishna'}\n",
    "stuff = d.values()\n",
    "pprint.pprint(stuff)"
   ]
  },
  {
   "cell_type": "code",
   "execution_count": 11,
   "id": "d214958d",
   "metadata": {},
   "outputs": [
    {
     "ename": "SyntaxError",
     "evalue": "invalid syntax (Temp/ipykernel_12828/166738915.py, line 3)",
     "output_type": "error",
     "traceback": [
      "\u001b[1;36m  File \u001b[1;32m\"C:\\Users\\client\\AppData\\Local\\Temp/ipykernel_12828/166738915.py\"\u001b[1;36m, line \u001b[1;32m3\u001b[0m\n\u001b[1;33m    d['c'] = 3 : if 'c' not in d\u001b[0m\n\u001b[1;37m               ^\u001b[0m\n\u001b[1;31mSyntaxError\u001b[0m\u001b[1;31m:\u001b[0m invalid syntax\n"
     ]
    }
   ],
   "source": [
    "d = {'a':1,'b':'one'}\n",
    "print('a' in d)\n",
    "d['c'] = 3 : if 'c' not in d \n",
    "d"
   ]
  },
  {
   "cell_type": "code",
   "execution_count": null,
   "id": "1f8dbf44",
   "metadata": {},
   "outputs": [],
   "source": []
  }
 ],
 "metadata": {
  "kernelspec": {
   "display_name": "Python 3 (ipykernel)",
   "language": "python",
   "name": "python3"
  },
  "language_info": {
   "codemirror_mode": {
    "name": "ipython",
    "version": 3
   },
   "file_extension": ".py",
   "mimetype": "text/x-python",
   "name": "python",
   "nbconvert_exporter": "python",
   "pygments_lexer": "ipython3",
   "version": "3.9.7"
  }
 },
 "nbformat": 4,
 "nbformat_minor": 5
}
