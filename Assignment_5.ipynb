{
 "cells": [
  {
   "cell_type": "code",
   "execution_count": 4,
   "id": "de875209",
   "metadata": {},
   "outputs": [
    {
     "name": "stdout",
     "output_type": "stream",
     "text": [
      "Enter first number : 10\n",
      "Enter second number : 5\n",
      "The lcm of 10 , 5 is 10\n"
     ]
    }
   ],
   "source": [
    "#1.Write a Python Program to Find LCM?\n",
    "#Ans:\n",
    "a = int(input(\"Enter first number : \"))\n",
    "b = int(input(\"Enter second number : \"))\n",
    "maximum = max(a,b)\n",
    "while True:\n",
    "    if(maximum%a == 0 and maximum % b == 0):\n",
    "        print(f'The lcm of {a} , {b} is {maximum}')\n",
    "        break\n",
    "    maximum += 1\n"
   ]
  },
  {
   "cell_type": "code",
   "execution_count": 9,
   "id": "f64cf260",
   "metadata": {},
   "outputs": [
    {
     "name": "stdout",
     "output_type": "stream",
     "text": [
      "Enter first number : 98\n",
      "Enter second number : 56\n",
      "The hcf of 98 and 56 is 14\n"
     ]
    }
   ],
   "source": [
    "#2.Write a Python Program to Find HCF?\n",
    "def lcm(a,b):\n",
    "    if a == 0 or b == 0:\n",
    "        return max(a,b)\n",
    "    else:\n",
    "        maximum = max(a,b)\n",
    "        while True:\n",
    "            if(maximum%a == 0 and maximum % b == 0):\n",
    "                return maximum\n",
    "                break\n",
    "            maximum += 1\n",
    "\n",
    "a = int(input(\"Enter first number : \"))\n",
    "b = int(input(\"Enter second number : \"))\n",
    "f_res = lcm(a,b)\n",
    "res = a*b/f_res\n",
    "print(f'The hcf of {a} and {b} is {int(res)}')"
   ]
  },
  {
   "cell_type": "code",
   "execution_count": 10,
   "id": "b36e4fb4",
   "metadata": {},
   "outputs": [
    {
     "name": "stdout",
     "output_type": "stream",
     "text": [
      "enter a decimal number : 109\n",
      "The number 109 in \n",
      " binary : 1101101 \n",
      " Octal : 1101101 \n",
      " Hexadecimal : 6d\n"
     ]
    }
   ],
   "source": [
    "#3.Write a Python Program to Convert Decimal to Binary, Octal and Hexadecimal?\n",
    "#Ans:\n",
    "#decimal to binary\n",
    "def converter(num,base):\n",
    "    if base == 1:\n",
    "        var = 2\n",
    "    elif base == 2:\n",
    "        var = 8\n",
    "    else:\n",
    "        pass\n",
    "    temp_num = num\n",
    "    s = ''\n",
    "    while True:\n",
    "        if temp_num > 1:\n",
    "            temp = temp_num%var\n",
    "            s = s+str(int(temp))\n",
    "            temp_num = temp_num/var\n",
    "        else:\n",
    "            return s[::-1]\n",
    "            break\n",
    "    \n",
    "num = int(input(\"enter a decimal number : \"))\n",
    "print(f'The number {num} in \\n binary : {converter(num,1)} \\n Octal : {converter(num,1)} \\n Hexadecimal : {(hex(num)).replace(\"0x\",\"\")}')\n",
    "   "
   ]
  },
  {
   "cell_type": "code",
   "execution_count": null,
   "id": "c0656c1c",
   "metadata": {},
   "outputs": [],
   "source": [
    "#decimal to hexadecimal\n"
   ]
  },
  {
   "cell_type": "code",
   "execution_count": 17,
   "id": "9b0169ae",
   "metadata": {},
   "outputs": [
    {
     "name": "stdout",
     "output_type": "stream",
     "text": [
      "enter your charachter : W\n",
      "87\n"
     ]
    }
   ],
   "source": [
    "#4. Write a Python Program To Find ASCII value of a character?\n",
    "ch = input(\"enter your charachter : \")\n",
    "print(ord(ch))"
   ]
  },
  {
   "cell_type": "code",
   "execution_count": 15,
   "id": "70aba7a6",
   "metadata": {},
   "outputs": [
    {
     "name": "stdout",
     "output_type": "stream",
     "text": [
      "Please enter first number : 10\n",
      "please enter second number : 5\n",
      "enter your choice \n",
      " 1. Addition \n",
      " 2. Substraction \n",
      " 3. Multiplication \n",
      " 4. Division \n",
      " 1\n",
      "15\n"
     ]
    }
   ],
   "source": [
    "#5. Write a Python Program to Make a Simple Calculator with 4 basic mathematical operations?\n",
    "def calculator(a,b,c):\n",
    "    if c == 1:\n",
    "        return a+b\n",
    "    elif c == 2:\n",
    "        return a-b\n",
    "    elif c == 3:\n",
    "        return a*b\n",
    "    elif c == 4:\n",
    "        return a/b\n",
    "a = int(input(\"Please enter first number : \"))\n",
    "b = int(input(\"please enter second number : \"))\n",
    "c = int(input(\"enter your choice \\n 1. Addition \\n 2. Substraction \\n 3. Multiplication \\n 4. Division \\n \"))\n",
    "c1 = calculator(a,b,c)\n",
    "print(c1)\n"
   ]
  },
  {
   "cell_type": "code",
   "execution_count": 5,
   "id": "bfbf9a19",
   "metadata": {},
   "outputs": [
    {
     "data": {
      "text/plain": [
       "15"
      ]
     },
     "execution_count": 5,
     "metadata": {},
     "output_type": "execute_result"
    }
   ],
   "source": []
  },
  {
   "cell_type": "code",
   "execution_count": null,
   "id": "439069af",
   "metadata": {},
   "outputs": [],
   "source": []
  }
 ],
 "metadata": {
  "kernelspec": {
   "display_name": "Python 3 (ipykernel)",
   "language": "python",
   "name": "python3"
  },
  "language_info": {
   "codemirror_mode": {
    "name": "ipython",
    "version": 3
   },
   "file_extension": ".py",
   "mimetype": "text/x-python",
   "name": "python",
   "nbconvert_exporter": "python",
   "pygments_lexer": "ipython3",
   "version": "3.9.7"
  }
 },
 "nbformat": 4,
 "nbformat_minor": 5
}
