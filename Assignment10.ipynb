{
 "cells": [
  {
   "cell_type": "markdown",
   "id": "2c994d6a",
   "metadata": {},
   "source": [
    "1. How do you distinguish between shutil.copy() and shutil.copytree()?\n",
    "\n",
    "Ans:\n",
    "\n",
    "shutil.copy() -> will copy the file into directory or file along with permissions , if destination is folder than it will create new file exactly as source file , if the destination is file than the content is overwritten\n",
    "\n",
    "shutil.copytree()->  This method will copy entire folders and files in directory along with created dates and permissions , if the destination path is not available it will create and than copy the files and folders"
   ]
  },
  {
   "cell_type": "markdown",
   "id": "4ac322fb",
   "metadata": {},
   "source": [
    "2. What function is used to rename files??\n",
    "\n",
    "Ans:\n",
    "\n",
    "By using os.rename we can rename files in python\n"
   ]
  },
  {
   "cell_type": "markdown",
   "id": "5f0c4605",
   "metadata": {},
   "source": [
    "3. What is the difference between the delete functions in the send2trash and shutil modules?\n",
    "\n",
    "Ans:\n",
    "\n",
    "Delete function in shutil module will delete files and folders perminantly\n",
    "\n",
    "Delete function in send2trash module will move files and folders into recycle bin\n",
    "\n"
   ]
  },
  {
   "cell_type": "markdown",
   "id": "68970633",
   "metadata": {},
   "source": [
    "4.ZipFile objects have a close() method just like File objects’ close() method. What ZipFile method is\n",
    "equivalent to File objects’ open() method?\n",
    "\n",
    "Ans:\n",
    "\n",
    "ZipFile() method act's exactly as open() method"
   ]
  },
  {
   "cell_type": "code",
   "execution_count": null,
   "id": "d531d55e",
   "metadata": {},
   "outputs": [],
   "source": [
    "'''\n",
    "5. Create a programme that searches a folder tree for files with a certain file extension (such as .pdf\n",
    "or .jpg). Copy these files from whatever location they are in to a new folder.\n",
    "'''\n",
    "\n",
    "import os\n",
    "import shutil\n",
    "loc = 'C:\\Users\\client\\Documents\\Ineuron\\Python'\n",
    "\n",
    "for item in os.listdir(loc):\n",
    "    dest = os.getcwd +'\\\\'+'NewFolder'\n",
    "    str_len = len(item)\n",
    "    if item[(str_len - 4):] == '.pdf' or item[(str_len - 4):] == '.jpg' :\n",
    "        shutil.copy(loc,dest)\n",
    "        "
   ]
  }
 ],
 "metadata": {
  "kernelspec": {
   "display_name": "Python 3 (ipykernel)",
   "language": "python",
   "name": "python3"
  },
  "language_info": {
   "codemirror_mode": {
    "name": "ipython",
    "version": 3
   },
   "file_extension": ".py",
   "mimetype": "text/x-python",
   "name": "python",
   "nbconvert_exporter": "python",
   "pygments_lexer": "ipython3",
   "version": "3.9.7"
  }
 },
 "nbformat": 4,
 "nbformat_minor": 5
}
