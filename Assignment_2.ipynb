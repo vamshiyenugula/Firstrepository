{
 "cells": [
  {
   "cell_type": "code",
   "execution_count": 4,
   "id": "a4c00a68",
   "metadata": {},
   "outputs": [
    {
     "name": "stdout",
     "output_type": "stream",
     "text": [
      "Enter distance in Kilometers1\n",
      "The distance in miles is 0.62137\n"
     ]
    }
   ],
   "source": [
    "#1 Write a Python program to convert kilometers to miles?\n",
    "\n",
    "kilometers = int(input(\"Enter distance in Kilometers\"))\n",
    "\n",
    "miles = kilometers * 0.62137\n",
    "\n",
    "print(f'The distance in miles is {miles}')\n",
    " "
   ]
  },
  {
   "cell_type": "code",
   "execution_count": 6,
   "id": "ea57ba55",
   "metadata": {},
   "outputs": [
    {
     "name": "stdout",
     "output_type": "stream",
     "text": [
      "Enter temperature in celsius108\n",
      "The temperature in Fahrenheit is 226.4\n"
     ]
    }
   ],
   "source": [
    "#2 Write a Python program to convert Celsius to Fahrenheit?\n",
    "\n",
    "C = int(input(\"Enter temperature in celsius\"))\n",
    "    \n",
    "F = C*(9/5)+32\n",
    "\n",
    "print(f'The temperature in Fahrenheit is {F}')\n"
   ]
  },
  {
   "cell_type": "code",
   "execution_count": 8,
   "id": "56705e8c",
   "metadata": {},
   "outputs": [
    {
     "name": "stdout",
     "output_type": "stream",
     "text": [
      "enter month10\n",
      "enter year1998\n",
      "    October 1998\n",
      "Mo Tu We Th Fr Sa Su\n",
      "          1  2  3  4\n",
      " 5  6  7  8  9 10 11\n",
      "12 13 14 15 16 17 18\n",
      "19 20 21 22 23 24 25\n",
      "26 27 28 29 30 31\n",
      "\n"
     ]
    }
   ],
   "source": [
    "#3 Write a Python program to display calendar?\n",
    "\n",
    "import calendar\n",
    "\n",
    "month = int(input(\"enter month\"))\n",
    "year = int(input(\"enter year\"))\n",
    "print(calendar.month(year,month))\n"
   ]
  },
  {
   "cell_type": "code",
   "execution_count": 10,
   "id": "d997c208",
   "metadata": {},
   "outputs": [
    {
     "name": "stdout",
     "output_type": "stream",
     "text": [
      "enter x2 coefficient : 1\n",
      "enter x coefficient : 5\n",
      "enter constant value-3\n",
      "The roots are real and unequal,The roots are x1 = 0.5413812651491097 and x2 = -5.541381265149109\n"
     ]
    }
   ],
   "source": [
    "#4 Write a Python program to solve quadratic equation?\n",
    "import math\n",
    "a = int(input(\"enter x2 coefficient : \"))\n",
    "b = int(input(\"enter x coefficient : \"))\n",
    "c = int(input(\"enter constant value\"))\n",
    "\n",
    "discriminant = b*b - (4*a*c)\n",
    "x1 = (-b+math.sqrt(discriminant))/2*a\n",
    "x2 = (-b-math.sqrt(discriminant))/2*a\n",
    "if(discriminant > 0):\n",
    "    print(f'The roots are real and unequal,The roots are x1 = {x1} and x2 = {x2}')\n",
    "    \n",
    "elif(discriminant < 0):\n",
    "    print(f'The roots will be complex and cojugate to eachother,The roots are x1 = {x1} and x2 = {x2}')\n",
    "else:\n",
    "     print(f'The roots are real and equal x1 = x2 = {x1}')\n"
   ]
  },
  {
   "cell_type": "code",
   "execution_count": 11,
   "id": "c2c218c2",
   "metadata": {},
   "outputs": [
    {
     "name": "stdout",
     "output_type": "stream",
     "text": [
      "enter first varaible input:10\n",
      "enter second variable:5\n",
      "The value of a and b before swapping are 10 and 5\n",
      "The value of a and b after swapping are 5 and 10\n"
     ]
    }
   ],
   "source": [
    "#5 Write a Python program to swap two variables without temp variable?\n",
    "a = int(input(\"enter first varaible input:\"))\n",
    "b = int(input(\"enter second variable:\"))\n",
    "print(f'The value of a and b before swapping are {a} and {b}')\n",
    "a = a+b   \n",
    "b = a-b \n",
    "a = a-b\n",
    "print(f'The value of a and b after swapping are {a} and {b}')\n",
    "\n"
   ]
  },
  {
   "cell_type": "code",
   "execution_count": null,
   "id": "8adef4a5",
   "metadata": {},
   "outputs": [],
   "source": []
  }
 ],
 "metadata": {
  "kernelspec": {
   "display_name": "Python 3 (ipykernel)",
   "language": "python",
   "name": "python3"
  },
  "language_info": {
   "codemirror_mode": {
    "name": "ipython",
    "version": 3
   },
   "file_extension": ".py",
   "mimetype": "text/x-python",
   "name": "python",
   "nbconvert_exporter": "python",
   "pygments_lexer": "ipython3",
   "version": "3.9.7"
  }
 },
 "nbformat": 4,
 "nbformat_minor": 5
}
