{
 "cells": [
  {
   "cell_type": "markdown",
   "id": "bc696599",
   "metadata": {},
   "source": [
    "1. What advantages do Excel spreadsheets have over CSV spreadsheets?\n",
    "\n",
    "Ans:\n",
    "\n",
    "Excel is more superior when compared with the CSV file format; thus, CSV consumes less amount of file size when the user is importing data; it is a much faster format compared to excel. CSV does not manipulate data and stores it as-is. Excel also allows the user the add-in feature."
   ]
  },
  {
   "cell_type": "markdown",
   "id": "835017b3",
   "metadata": {},
   "source": [
    "2.What do you pass to csv.reader() and csv.writer() to create reader and writer objects?\n",
    "\n",
    "Ans:\n",
    "\n",
    "It will take iterable as the input which returns a line of input for each iteration."
   ]
  },
  {
   "cell_type": "markdown",
   "id": "d354698d",
   "metadata": {},
   "source": [
    "3. What modes do File objects for reader and writer objects need to be opened in?\n",
    "\n",
    "Ans:\n",
    "For reading files we can just open in r mode which is read mode\n",
    "For writing files we into files we can use w mode\n",
    "while open in x mode create a new file and open it for writing\n"
   ]
  },
  {
   "cell_type": "markdown",
   "id": "fc8d4cdb",
   "metadata": {},
   "source": [
    "4. What method takes a list argument and writes it to a CSV file?\n",
    "\n",
    "Ans:\n",
    "first we have to create an object for csv.writer()\n",
    "\n",
    "on that object we have use object_name.writerow([])\n",
    "\n",
    "we can pass list as input for object_name.writerow()\n"
   ]
  },
  {
   "cell_type": "markdown",
   "id": "f4e16cf0",
   "metadata": {},
   "source": [
    "5. What do the keyword arguments delimiter and line terminator do?\n",
    "\n",
    "Ans:\n",
    "\n",
    "the function uses delemiter for seperation of data\n",
    "\n"
   ]
  },
  {
   "cell_type": "markdown",
   "id": "6fda567b",
   "metadata": {},
   "source": [
    "6. What function takes a string of JSON data and returns a Python data structure?\n",
    "\n",
    "Ans:\n",
    "json.load() is the function which takes string of JSON data and returns a python dict\n"
   ]
  },
  {
   "cell_type": "markdown",
   "id": "b9965256",
   "metadata": {},
   "source": [
    "7. What function takes a Python data structure and returns a string of JSON data?\n",
    "\n",
    "Ans:\n",
    "json.dump() is the function which takes python dictionary as an input and returns the JSON data\n"
   ]
  },
  {
   "cell_type": "code",
   "execution_count": 8,
   "id": "e659bd23",
   "metadata": {},
   "outputs": [],
   "source": []
  },
  {
   "cell_type": "code",
   "execution_count": 3,
   "id": "9c948727",
   "metadata": {},
   "outputs": [],
   "source": []
  },
  {
   "cell_type": "code",
   "execution_count": null,
   "id": "9339e297",
   "metadata": {},
   "outputs": [],
   "source": []
  },
  {
   "cell_type": "markdown",
   "id": "1d52a6fa",
   "metadata": {},
   "source": []
  },
  {
   "cell_type": "markdown",
   "id": "d7549794",
   "metadata": {},
   "source": []
  },
  {
   "cell_type": "markdown",
   "id": "e5d7f6e2",
   "metadata": {},
   "source": []
  }
 ],
 "metadata": {
  "kernelspec": {
   "display_name": "Python 3 (ipykernel)",
   "language": "python",
   "name": "python3"
  },
  "language_info": {
   "codemirror_mode": {
    "name": "ipython",
    "version": 3
   },
   "file_extension": ".py",
   "mimetype": "text/x-python",
   "name": "python",
   "nbconvert_exporter": "python",
   "pygments_lexer": "ipython3",
   "version": "3.9.7"
  }
 },
 "nbformat": 4,
 "nbformat_minor": 5
}
