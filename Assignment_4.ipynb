{
 "cells": [
  {
   "cell_type": "code",
   "execution_count": 24,
   "id": "438d2ffe",
   "metadata": {},
   "outputs": [
    {
     "name": "stdout",
     "output_type": "stream",
     "text": [
      "enter a number5\n",
      "120\n"
     ]
    }
   ],
   "source": [
    "# 1.Write a Python Program to Find the Factorial of a Number?\n",
    "num = int(input(\"enter a number\"))\n",
    "sum = 1\n",
    "for i in range(num):\n",
    "    sum = sum*(i+1)\n",
    "print(sum)\n",
    "    \n"
   ]
  },
  {
   "cell_type": "code",
   "execution_count": 23,
   "id": "f8f59900",
   "metadata": {},
   "outputs": [
    {
     "name": "stdout",
     "output_type": "stream",
     "text": [
      "enter the number which table you want15\n",
      "How many times you want10\n",
      "15 * 1 = 15\n",
      "15 * 2 = 30\n",
      "15 * 3 = 45\n",
      "15 * 4 = 60\n",
      "15 * 5 = 75\n",
      "15 * 6 = 90\n",
      "15 * 7 = 105\n",
      "15 * 8 = 120\n",
      "15 * 9 = 135\n",
      "15 * 10 = 150\n"
     ]
    }
   ],
   "source": [
    "#2.Write a Python Program to Display the multiplication Table?\n",
    "num = int(input(\"enter the number which table you want\"))\n",
    "times = int(input(\"How many times you want\"))\n",
    "for i in range(times):\n",
    "    res = num *(i+1)\n",
    "    print(f'{num} * {i+1} = {res}')"
   ]
  },
  {
   "cell_type": "code",
   "execution_count": 22,
   "id": "1414f0fb",
   "metadata": {},
   "outputs": [
    {
     "name": "stdout",
     "output_type": "stream",
     "text": [
      "enter the ending index of series10\n",
      "The element at index 0 is 1\n",
      "The element at index 1 is 1\n",
      "the element at index 2 is 2\n",
      "the element at index 3 is 3\n",
      "the element at index 4 is 5\n",
      "the element at index 5 is 8\n",
      "the element at index 6 is 13\n",
      "the element at index 7 is 21\n",
      "the element at index 8 is 34\n",
      "the element at index 9 is 55\n",
      "the element at index 10 is 89\n"
     ]
    }
   ],
   "source": [
    "#3.Write a Python Program to Print the Fibonacci sequence?\n",
    "num = int(input(\"enter the ending index of series\"))\n",
    "i = 0\n",
    "a = 1\n",
    "b = 1\n",
    "\n",
    "while i <= num:\n",
    "    if i == 0 or i == 1:\n",
    "        print(f'The element at index {i} is {a}')\n",
    "    else:\n",
    "        c = a + b\n",
    "        a = b\n",
    "        b = c\n",
    "        print(f'the element at index {i} is {c}')\n",
    "    i = i + 1\n",
    "\n",
    "    \n",
    "    "
   ]
  },
  {
   "cell_type": "code",
   "execution_count": 16,
   "id": "95b5ecad",
   "metadata": {},
   "outputs": [
    {
     "name": "stdout",
     "output_type": "stream",
     "text": [
      "enter a number3\n",
      "the number is not amstrong number\n"
     ]
    }
   ],
   "source": [
    "#4.Write a Python Program to Check Armstrong Number?\n",
    "num = int(input(\"enter a number\"))\n",
    "a = []\n",
    "if 0<= num <=10:\n",
    "    if num ==0 or num ==1:\n",
    "        print(\"The number is amstrong number\")\n",
    "    else:\n",
    "        print(\"the number is not amstrong number\")\n",
    "else:\n",
    "    tnum = num\n",
    "    ts = 0\n",
    "    while True:\n",
    "        temp = tnum%10\n",
    "        a.append(int(temp))\n",
    "        tnum = tnum/10\n",
    "        if tnum > 10:\n",
    "            continue\n",
    "        else:\n",
    "            a.append(int(tnum))\n",
    "            break\n",
    "    for i in a:\n",
    "        ts = ts + i**len(a)\n",
    "    if ts == num:\n",
    "        print(\"The number is amstrong number\")\n",
    "    else:\n",
    "        print(\"the number is not amstrong number\")\n",
    "            \n",
    "    \n",
    "        \n",
    "        "
   ]
  },
  {
   "cell_type": "code",
   "execution_count": 20,
   "id": "127cb850",
   "metadata": {},
   "outputs": [
    {
     "name": "stdout",
     "output_type": "stream",
     "text": [
      "enter upper range1000\n",
      "The number 0 is amstrong number\n",
      "The number 1 is amstrong number\n",
      "The number 153 is amstrong number\n",
      "The number 370 is amstrong number\n",
      "The number 371 is amstrong number\n",
      "The number 407 is amstrong number\n"
     ]
    }
   ],
   "source": [
    "#5.Write a Python Program to Find Armstrong Number in an Interval?\n",
    "interval = int(input(\"enter upper range\"))\n",
    "for i in range(interval+1):\n",
    "    num =i\n",
    "    a = []\n",
    "    if 0<= num <=10:\n",
    "        if num ==0 or num ==1:\n",
    "            print(f'The number {num} is amstrong number')\n",
    "    else:\n",
    "        tnum = num\n",
    "        ts = 0\n",
    "        while True:\n",
    "            temp = tnum%10\n",
    "            a.append(int(temp))\n",
    "            tnum = tnum/10\n",
    "            if tnum >= 10:\n",
    "                continue\n",
    "            else:\n",
    "                a.append(int(tnum))\n",
    "                break\n",
    "        for i in a:\n",
    "            ts = ts + i**len(a)\n",
    "        if ts == num:\n",
    "            print(f'The number {num} is amstrong number')\n"
   ]
  },
  {
   "cell_type": "code",
   "execution_count": 21,
   "id": "6004e8d4",
   "metadata": {},
   "outputs": [
    {
     "name": "stdout",
     "output_type": "stream",
     "text": [
      "enter a number5\n",
      "15\n"
     ]
    }
   ],
   "source": [
    "#### 6.Write a Python Program to Find the Sum of Natural Numbers?\n",
    "num = int(input(\"enter a number\"))\n",
    "res = (num*(num+1))/2\n",
    "print(int(res))"
   ]
  },
  {
   "cell_type": "code",
   "execution_count": null,
   "id": "7e0cfd1b",
   "metadata": {},
   "outputs": [],
   "source": []
  },
  {
   "cell_type": "code",
   "execution_count": null,
   "id": "dab319a4",
   "metadata": {},
   "outputs": [],
   "source": []
  },
  {
   "cell_type": "code",
   "execution_count": null,
   "id": "8204562a",
   "metadata": {},
   "outputs": [],
   "source": []
  }
 ],
 "metadata": {
  "kernelspec": {
   "display_name": "Python 3 (ipykernel)",
   "language": "python",
   "name": "python3"
  },
  "language_info": {
   "codemirror_mode": {
    "name": "ipython",
    "version": 3
   },
   "file_extension": ".py",
   "mimetype": "text/x-python",
   "name": "python",
   "nbconvert_exporter": "python",
   "pygments_lexer": "ipython3",
   "version": "3.9.7"
  }
 },
 "nbformat": 4,
 "nbformat_minor": 5
}
