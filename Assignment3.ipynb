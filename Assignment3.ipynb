{
 "cells": [
  {
   "cell_type": "markdown",
   "id": "32ddae19",
   "metadata": {},
   "source": [
    "1. Why are functions advantageous to have in your programs?\n",
    "\n",
    "Ans:\n",
    "\n",
    "By using functions we can avoid rewriting code , It makes codes redable and short . \n",
    "\n"
   ]
  },
  {
   "cell_type": "markdown",
   "id": "dfdc4b27",
   "metadata": {},
   "source": [
    "2.When does the code in a function run: when it's specified or when it's called?\n",
    "\n",
    "Ans:\n",
    "\n",
    "\n",
    "Code in function is executed when it is called.\n"
   ]
  },
  {
   "cell_type": "markdown",
   "id": "bed27870",
   "metadata": {},
   "source": [
    "3. What statement creates a function?\n",
    "\n",
    "Ans:\n",
    "\n",
    "def function_name():\n",
    "\n",
    "This above statement is used to create a function using def keyword.\n"
   ]
  },
  {
   "cell_type": "markdown",
   "id": "10fd7828",
   "metadata": {},
   "source": [
    "4. What is the difference between a function and a function call?\n",
    "\n",
    "Ans:\n",
    "    \n",
    "Function defination is used to define a function and what statements it should execute when it is called.\n",
    "\n",
    "Function calling is executing a block of code by passing values if required and collecting the return value if function returns any value ."
   ]
  },
  {
   "cell_type": "markdown",
   "id": "b87d4557",
   "metadata": {},
   "source": [
    "5. How many global scopes are there in a Python program? How many local scopes?\n",
    "\n",
    "\n",
    "Ans:\n",
    "\n",
    "\n",
    "There are 4 types of scopes in python\n",
    "\n",
    "\n",
    "1.BuiltIn : Which comes with python default \n",
    "\n",
    "\n",
    "2.Global : Global scopes are the variables which we can use in anywhere in the program in that session\n",
    "\n",
    "\n",
    "3.Non Local: Non local scope is scope defined in parent block , which can be used in child block even it is not global\n",
    "\n",
    "\n",
    "4.Local : it is specific to block ,it can't be accessed outside that block\n"
   ]
  },
  {
   "cell_type": "markdown",
   "id": "60646919",
   "metadata": {},
   "source": [
    "6. What happens to variables in a local scope when the function call returns?\n",
    "\n",
    "Ans:\n",
    "\n",
    "After function call returns , the memory used by varaibles in local scope is cleared by python compiler\n"
   ]
  },
  {
   "cell_type": "markdown",
   "id": "59b96683",
   "metadata": {},
   "source": [
    "7. What is the concept of a return value? Is it possible to have a return value in an expression?\n",
    "\n",
    "Ans:\n",
    "\n",
    "After performing some operations after calling function we can return the output for using it in later part of code , yes it is possible to have return value in an expression.\n"
   ]
  },
  {
   "cell_type": "markdown",
   "id": "db6612cf",
   "metadata": {},
   "source": [
    "8. If a function does not have a return statement, what is the return value of a call to that function?\n",
    "\n",
    "Ans:\n",
    "\n",
    "If there is no return statement function will return None type.\n"
   ]
  },
  {
   "cell_type": "markdown",
   "id": "e129a747",
   "metadata": {},
   "source": [
    "9. How do you make a function variable refer to the global variable?\n",
    "\n",
    "Ans:\n",
    "\n",
    "We can make function varaible global by using global keyword while creating a varaible\n",
    "\n",
    "\n",
    "ex:\n",
    "global x"
   ]
  },
  {
   "cell_type": "markdown",
   "id": "97321b7c",
   "metadata": {},
   "source": [
    "10. What is the data type of None?\n",
    "\n",
    "Ans:\n",
    "\n",
    "The data type of None is Nonetype\n"
   ]
  },
  {
   "cell_type": "markdown",
   "id": "259aab16",
   "metadata": {},
   "source": [
    "11. What does the sentence import areallyourpetsnamederic do?\n",
    "\n",
    "Ans:\n",
    "\n",
    "The function will try to import this \"areallyourpetsnamederic\" module if it is not found it will throw module not found error"
   ]
  },
  {
   "cell_type": "markdown",
   "id": "e7b62efd",
   "metadata": {},
   "source": [
    "12. If you had a bacon() feature in a spam module, what would you call it after importing spam?\n",
    "\n",
    "Ans:\n",
    "\n",
    "We can use bacon() by using this command\n",
    "\n",
    "import spam\n",
    "\n",
    "spam.bacon()"
   ]
  },
  {
   "cell_type": "markdown",
   "id": "cf7d9b49",
   "metadata": {},
   "source": [
    "13. What can you do to save a programme from crashing if it encounters an error?\n",
    "\n",
    "Ans:\n",
    "\n",
    "To prevent program from crashing we can use error handling by using try,except,else,finally "
   ]
  },
  {
   "cell_type": "markdown",
   "id": "991c7c74",
   "metadata": {},
   "source": [
    "14. What is the purpose of the try clause? What is the purpose of the except clause?\n",
    "\n",
    "Ans:\n",
    "\n",
    "If we want to try running any code which we are not sure about output we can put it under try block.\n",
    "\n",
    "If code under try got any error , the compiler will run the code which is in  except block.\n"
   ]
  },
  {
   "cell_type": "code",
   "execution_count": null,
   "id": "a4ee1152",
   "metadata": {},
   "outputs": [],
   "source": []
  },
  {
   "cell_type": "code",
   "execution_count": null,
   "id": "b5ce9be7",
   "metadata": {},
   "outputs": [],
   "source": []
  }
 ],
 "metadata": {
  "kernelspec": {
   "display_name": "Python 3 (ipykernel)",
   "language": "python",
   "name": "python3"
  },
  "language_info": {
   "codemirror_mode": {
    "name": "ipython",
    "version": 3
   },
   "file_extension": ".py",
   "mimetype": "text/x-python",
   "name": "python",
   "nbconvert_exporter": "python",
   "pygments_lexer": "ipython3",
   "version": "3.9.7"
  }
 },
 "nbformat": 4,
 "nbformat_minor": 5
}
