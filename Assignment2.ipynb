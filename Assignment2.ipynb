{
 "cells": [
  {
   "cell_type": "markdown",
   "id": "94c030ff",
   "metadata": {},
   "source": [
    "# While writing answers i used --> symbol to reduce time to completed assignment\n",
    "\n",
    "\n",
    "the value of the right of this --> is my answer"
   ]
  },
  {
   "cell_type": "markdown",
   "id": "46aa0c4b",
   "metadata": {},
   "source": [
    "1.What are the two values of the Boolean data type? How do you write them?\n",
    "\n",
    "Ans:\n",
    "    \n",
    "The two Boolean data types are true and false\n",
    "\n",
    "\n",
    "While writing them we should write True and False"
   ]
  },
  {
   "cell_type": "markdown",
   "id": "64db7899",
   "metadata": {},
   "source": [
    "2. What are the three different types of Boolean operators?\n",
    "\n",
    "\n",
    "There are three boolean operators are and,or,not.\n"
   ]
  },
  {
   "cell_type": "markdown",
   "id": "b0a653b0",
   "metadata": {},
   "source": [
    "3. Make a list of each Boolean operator&#39;s truth tables (i.e. every possible combination of Boolean\n",
    "values for the operator and what it evaluate ).\n",
    "\n",
    "and\n",
    "\n",
    "Truthtable\n",
    "\n",
    "True True --> True True False --> False False True --> False False False --> False\n",
    "\n",
    "or Truth table\n",
    "\n",
    "True True --> True True False --> True False True --> True False False --> False\n",
    "\n",
    "not\n",
    "\n",
    "True --> False False --> True\n"
   ]
  },
  {
   "cell_type": "markdown",
   "id": "66c07693",
   "metadata": {},
   "source": [
    "4. What are the values of the following expressions?\n",
    "(5 > 4) and (3 == 5)\n",
    "not (5 > 4)\n",
    "(5 > 4) or (3 == 5)\n",
    "not ((5 > 4) or (3 == 5))\n",
    "(True and True) and (True == False)\n",
    "(not False) or (not True)\n",
    "\n",
    "\n",
    "Ans:\n",
    "\n",
    "(5 > 4) and (3 == 5) --> False\n",
    "\n",
    "\n",
    "not (5 > 4) --> True\n",
    "\n",
    "\n",
    "(5 > 4) or (3 == 5) --> False\n",
    "\n",
    "\n",
    "not ((5 > 4) or (3 == 5)) --> True\n",
    "\n",
    "\n",
    "(True and True) and (True == False) --> False\n",
    "\n",
    "\n",
    "(not False) or (not True) -->  True\n"
   ]
  },
  {
   "cell_type": "markdown",
   "id": "f54e1d76",
   "metadata": {},
   "source": [
    "5. What are the six comparison operators?\n",
    "\n",
    "Ans:\n",
    "\n",
    "\n",
    "greaterthan --> >\n",
    "\n",
    "lessthan --> <\n",
    "\n",
    "equal --> ==\n",
    "\n",
    "lessthan or equal --> <=\n",
    "\n",
    "greaterthan or equal --> >=\n",
    "\n",
    "not equal --> !="
   ]
  },
  {
   "cell_type": "markdown",
   "id": "6f76337c",
   "metadata": {},
   "source": [
    "6. How do you tell the difference between the equal to and assignment operators?Describe a condition and when you would use one.\n",
    "\n",
    "Ans:\n",
    "\n",
    "Assignment is generally done by = symbol\n",
    "\n",
    "for example if we want to assign value \"Ineuron is best for learning\" to varaible a , we can use =\n",
    "\n",
    "a = \"Ineuron is best for learning\"\n",
    "\n",
    "if we want to check two values are equal , than we can use ==\n",
    "\n",
    "for example to check \"Ineuron\" is same as \"Ineuron\" than we can use ==\n",
    "\n",
    "\"Ineuron\" == \"Ineuron\"\n",
    "\n"
   ]
  },
  {
   "cell_type": "markdown",
   "id": "ce406e89",
   "metadata": {},
   "source": [
    "7. Identify the three blocks in this code:\n",
    "spam = 0\n",
    "if spam == 10:\n",
    "print('eggs')\n",
    "if spam > 5:\n",
    "print('bacon')\n",
    "else:\n",
    "print('ham')\n",
    "print('spam')\n",
    "print('spam')\n",
    "\n",
    "\n",
    "Ans:\n",
    "\n",
    "There are three blocks in that code\n",
    "\n",
    "\n",
    "Block 1:\n",
    "\n",
    "if spam == 10:\n",
    "print('eggs')\n",
    "\n",
    "\n",
    "Block 2:\n",
    "\n",
    "\n",
    "if spam > 5:\n",
    "print('bacon')\n",
    "\n",
    "\n",
    "Block 3:\n",
    "\n",
    "\n",
    "else:\n",
    "print('ham')\n",
    "print('spam')\n",
    "print('spam')\n"
   ]
  },
  {
   "cell_type": "code",
   "execution_count": 2,
   "id": "ffab07c3",
   "metadata": {},
   "outputs": [
    {
     "name": "stdout",
     "output_type": "stream",
     "text": [
      "Hello\n"
     ]
    }
   ],
   "source": [
    "'''\n",
    "8. Write code that prints Hello if 1 is stored in spam, prints Howdy if 2 is stored in spam, and prints Greetings! if anything else is stored in spam.\n",
    "'''\n",
    "#Ans:\n",
    "if spam == 1:\n",
    "    print('Hello')\n",
    "elif spam == 2:\n",
    "    print('Howdy')\n",
    "else:\n",
    "    print('Greetings!')\n"
   ]
  },
  {
   "cell_type": "markdown",
   "id": "7d367c13",
   "metadata": {},
   "source": [
    "9.If your programme is stuck in an endless loop, what keys you’ll press?\n",
    "\n",
    "\n",
    "Ans: Haven't explored yet will browse :)"
   ]
  },
  {
   "cell_type": "markdown",
   "id": "d187d765",
   "metadata": {},
   "source": [
    "10. How can you tell the difference between break and continue?\n",
    "\n",
    "\n",
    "break: \n",
    "\n",
    "break will exit from the loop\n",
    "\n",
    "continue:\n",
    "\n",
    "continue will stop executing loop and start executing with next iteration"
   ]
  },
  {
   "cell_type": "markdown",
   "id": "436fdfe7",
   "metadata": {},
   "source": [
    "11. In a for loop, what is the difference between range(10), range(0, 10), and range(0, 10, 1)?\n",
    "\n",
    "Ans:\n",
    "\n",
    "There is no difference between range(10), range(0,10) and range(0,10,1) functionality wise \n",
    "\n",
    "The actuall representation is range(lowerbound,upperbound,step)\n",
    "\n",
    "range(10) --> here by default it will take lowerbound = 0(by default lowerbound = 0 ) , upperbound = 10 , step = 1 (by default step = 0 )\n",
    "\n",
    "range(0,10)  --> here by default it will take lowerbound = 0 , upperbound = 10 , step = 1(by default step = 0 )\n",
    "\n",
    "range(0,10,1) --> here by default it will take lowerbound = 0 , upperbound = 10 , step = 1\n"
   ]
  },
  {
   "cell_type": "code",
   "execution_count": 13,
   "id": "bb477b4c",
   "metadata": {},
   "outputs": [],
   "source": [
    "'''\n",
    "12. Write a short program that prints the numbers 1 to 10 using a for loop. Then write an equivalent program that prints the numbers 1 to 10 using a while loop.\n",
    "\n",
    "'''\n",
    "#program using for loop\n",
    "for item in range(1,11):\n",
    "    print(item)\n",
    "    \n",
    "#program using while loop\n",
    "i = 1\n",
    "while i < 11:\n",
    "    print(i)\n",
    "    i+=1\n"
   ]
  },
  {
   "cell_type": "markdown",
   "id": "4d456bc9",
   "metadata": {},
   "source": [
    "13. If you had a function named bacon() inside a module named spam, how would you call it after importing spam?\n",
    "\n",
    "Ans:\n",
    "\n",
    "way 1:\n",
    "\n",
    "from spam import bacon\n",
    "\n",
    "if we use this we can use bacon() directly in program\n",
    "\n",
    "way 2:\n",
    "\n",
    "import spam\n",
    "\n",
    "if we import only spam we should use spam.bacon()\n"
   ]
  }
 ],
 "metadata": {
  "kernelspec": {
   "display_name": "Python 3 (ipykernel)",
   "language": "python",
   "name": "python3"
  },
  "language_info": {
   "codemirror_mode": {
    "name": "ipython",
    "version": 3
   },
   "file_extension": ".py",
   "mimetype": "text/x-python",
   "name": "python",
   "nbconvert_exporter": "python",
   "pygments_lexer": "ipython3",
   "version": "3.9.7"
  }
 },
 "nbformat": 4,
 "nbformat_minor": 5
}
