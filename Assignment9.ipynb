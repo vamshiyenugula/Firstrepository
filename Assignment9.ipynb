{
 "cells": [
  {
   "cell_type": "markdown",
   "id": "fe3a9861",
   "metadata": {},
   "source": [
    "#1. To what does a relative path refer?\n",
    "\n",
    "Ans:\n",
    "\n",
    "Relative path means we can use (.\\file name) to use file in current directory\n",
    "    \n"
   ]
  },
  {
   "cell_type": "markdown",
   "id": "0b8db289",
   "metadata": {},
   "source": [
    "#2. What does an absolute path start with your operating system?\n",
    "\n",
    "Ans:\n",
    "\n",
    "With my os the absolute path start's with direvename followed by : than \\ (example c:\\)\n"
   ]
  },
  {
   "cell_type": "markdown",
   "id": "238147d7",
   "metadata": {},
   "source": [
    "#3. What do the functions os.getcwd() and os.chdir() do?\n",
    "\n",
    "Ans:\n",
    "\n",
    "os.getcwd() ->  This will return relative path\n",
    "\n",
    "os.chdir() -> By using os.chdir() we can change current working directory\n",
    "\n"
   ]
  },
  {
   "cell_type": "markdown",
   "id": "8e2a4562",
   "metadata": {},
   "source": [
    "#4. What are the . and .. folders?\n",
    "\n",
    "Ans:\n",
    "\n",
    "if we use .\\ than it refers to current directory\n",
    "\n",
    "if we use ..\\ than it referes to parent folder of current directory\n"
   ]
  },
  {
   "cell_type": "markdown",
   "id": "743d192a",
   "metadata": {},
   "source": [
    "#5. In C:\\bacon\\eggs\\spam.txt, which part is the dir name, and which part is the base name?\n",
    "\n",
    "Ans:\n",
    "\n",
    "In  tha above mentioned path eggs os the dir name\n",
    "\n",
    "c:\\bacon refers to base name\n"
   ]
  },
  {
   "cell_type": "markdown",
   "id": "1b406688",
   "metadata": {},
   "source": [
    "#6. What are the three “mode” arguments that can be passed to the open() function?\n",
    "\n",
    "Ans:\n",
    "\n",
    "we can pass 'r' which refers to read mode\n",
    "we can pass 'w' which refers to write mode\n",
    "we can pass 'a' which reders to append mode\n"
   ]
  },
  {
   "cell_type": "markdown",
   "id": "49464c51",
   "metadata": {},
   "source": [
    "#7. What happens if an existing file is opened in write mode?\n",
    "\n",
    "Ans:\n",
    "\n",
    "We can write the new data into the file , if data is already present in the file it will be overwritten\n"
   ]
  },
  {
   "cell_type": "markdown",
   "id": "affa9424",
   "metadata": {},
   "source": [
    "#8. How do you tell the difference between read() and readlines()?\n",
    "\n",
    "Ans:\n",
    "\n",
    "read() -> Read will return entire content of file\n",
    "\n",
    "readlines() -> it will return one line from file\n"
   ]
  },
  {
   "cell_type": "markdown",
   "id": "d7e3f8fe",
   "metadata": {},
   "source": [
    "#9. What data structure does a shelf value resemble?\n",
    "\n",
    "Ans:\n",
    "shelf value resembels dictinoary\n",
    "\n"
   ]
  },
  {
   "cell_type": "code",
   "execution_count": null,
   "id": "c7497479",
   "metadata": {},
   "outputs": [],
   "source": []
  },
  {
   "cell_type": "markdown",
   "id": "08980c1e",
   "metadata": {},
   "source": []
  }
 ],
 "metadata": {
  "kernelspec": {
   "display_name": "Python 3 (ipykernel)",
   "language": "python",
   "name": "python3"
  },
  "language_info": {
   "codemirror_mode": {
    "name": "ipython",
    "version": 3
   },
   "file_extension": ".py",
   "mimetype": "text/x-python",
   "name": "python",
   "nbconvert_exporter": "python",
   "pygments_lexer": "ipython3",
   "version": "3.9.7"
  }
 },
 "nbformat": 4,
 "nbformat_minor": 5
}
