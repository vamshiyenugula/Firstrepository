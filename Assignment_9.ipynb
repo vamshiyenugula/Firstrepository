{
 "cells": [
  {
   "cell_type": "code",
   "execution_count": 7,
   "id": "4fafc631",
   "metadata": {},
   "outputs": [
    {
     "name": "stdout",
     "output_type": "stream",
     "text": [
      "enter a number : 175\n",
      "Number is Disarium Number\n"
     ]
    }
   ],
   "source": [
    "#1. Write a Python program to check if the given number is a Disarium Number?\n",
    "num = int(input('enter a number : '))\n",
    "temp_num = num\n",
    "l = []\n",
    "\n",
    "while num > 1:\n",
    "    temp = num%10\n",
    "    l.append(int(temp))\n",
    "    num = num/10\n",
    "\n",
    "\n",
    "temp_sum = 0\n",
    "temp_list = l[::-1]\n",
    "\n",
    "for i in range(len(temp_list)):\n",
    "    temp_sum += (temp_list[i]**(i+1))\n",
    "if temp_sum == temp_num:\n",
    "    print('Number is Disarium Number')\n",
    "else:\n",
    "    print('Number is not Disarium Number')\n"
   ]
  },
  {
   "cell_type": "code",
   "execution_count": 17,
   "id": "a1a07b89",
   "metadata": {},
   "outputs": [
    {
     "name": "stdout",
     "output_type": "stream",
     "text": [
      "1 is Disarium Number\n",
      "2 is Disarium Number\n",
      "3 is Disarium Number\n",
      "4 is Disarium Number\n",
      "5 is Disarium Number\n",
      "6 is Disarium Number\n",
      "7 is Disarium Number\n",
      "8 is Disarium Number\n",
      "9 is Disarium Number\n",
      "89 is Disarium Number\n"
     ]
    }
   ],
   "source": [
    "#2. Write a Python program to print all disarium numbers between 1 to 100?\n",
    "for i in range(100):\n",
    "    num = i+1\n",
    "    temp_num = num\n",
    "    l = []\n",
    "\n",
    "    while num >= 1:\n",
    "        temp = num%10\n",
    "        l.append(int(temp))\n",
    "        num = num/10\n",
    "\n",
    "\n",
    "    temp_sum = 0\n",
    "    temp_list = l[::-1]\n",
    "\n",
    "    for i in range(len(temp_list)):\n",
    "        temp_sum += (temp_list[i]**(i+1))\n",
    "    if temp_sum == temp_num:\n",
    "        print(f'{temp_sum} is Disarium Number')\n",
    "    \n",
    "\n",
    "    "
   ]
  },
  {
   "cell_type": "code",
   "execution_count": 1,
   "id": "27f8bbc4",
   "metadata": {},
   "outputs": [],
   "source": [
    "#3. Write a Python program to check if the given number is Happy Number?\n",
    "def happy_number_checker(num):\n",
    "    temp_sum = 0\n",
    "    while num >= 1:\n",
    "        temp = num % 10\n",
    "        temp_sum += int(temp)**2\n",
    "        num = num/10\n",
    "    return temp_sum\n",
    "\n",
    "\n",
    "def happy_number(number):\n",
    "    temp_num = number\n",
    "    while True:\n",
    "        res = happy_number_checker(number)\n",
    "        if res == 1:\n",
    "            print(f'{temp_num} is happy number')\n",
    "            break\n",
    "        elif res == 4:\n",
    "            print(f'{temp_num} is not happy number')\n",
    "            break\n",
    "        elif res == 0:\n",
    "            break\n",
    "        else:\n",
    "            number = res\n",
    "            \n"
   ]
  },
  {
   "cell_type": "code",
   "execution_count": 13,
   "id": "edb6816d",
   "metadata": {},
   "outputs": [
    {
     "name": "stdout",
     "output_type": "stream",
     "text": [
      "enter a number : 13\n",
      "13 is happy number\n"
     ]
    }
   ],
   "source": [
    "n = int(input('enter a number : '))\n",
    "happy_number(n)"
   ]
  },
  {
   "cell_type": "code",
   "execution_count": 2,
   "id": "7815774b",
   "metadata": {},
   "outputs": [
    {
     "name": "stdout",
     "output_type": "stream",
     "text": [
      "1 is happy number\n",
      "7 is happy number\n",
      "10 is happy number\n",
      "13 is happy number\n",
      "19 is happy number\n",
      "23 is happy number\n",
      "28 is happy number\n",
      "31 is happy number\n",
      "32 is happy number\n",
      "44 is happy number\n",
      "49 is happy number\n",
      "68 is happy number\n",
      "70 is happy number\n",
      "79 is happy number\n",
      "82 is happy number\n",
      "86 is happy number\n",
      "91 is happy number\n",
      "94 is happy number\n",
      "97 is happy number\n",
      "100 is happy number\n"
     ]
    }
   ],
   "source": [
    "#4. Write a Python program to print all happy numbers between 1 and 100?\n",
    "#using fun from above code\n",
    "def happy_number1(number):\n",
    "    temp_num = number\n",
    "    while True:\n",
    "        res = happy_number_checker(number)\n",
    "        if res == 1:\n",
    "            print(f'{temp_num} is happy number')\n",
    "            break\n",
    "        elif res == 4:\n",
    "            break\n",
    "        elif res == 0:\n",
    "            break\n",
    "        else:\n",
    "            number = res\n",
    "\n",
    "for i in range(100):\n",
    "    happy_number1(i+1)"
   ]
  },
  {
   "cell_type": "code",
   "execution_count": 30,
   "id": "04e8c4f1",
   "metadata": {},
   "outputs": [
    {
     "data": {
      "text/plain": [
       "3"
      ]
     },
     "execution_count": 30,
     "metadata": {},
     "output_type": "execute_result"
    }
   ],
   "source": [
    "#5. Write a Python program to determine whether the given number is a Harshad Number?\n",
    "\n",
    "def h_n_s(num):\n",
    "    temp_sum = 0\n",
    "    while num >= 1:\n",
    "        temp = num % 10\n",
    "        temp_sum += int(temp)\n",
    "        num = num/10\n",
    "    return temp_sum\n",
    "h_n_s(3.25)\n"
   ]
  },
  {
   "cell_type": "code",
   "execution_count": 54,
   "id": "713e919f",
   "metadata": {},
   "outputs": [
    {
     "name": "stdout",
     "output_type": "stream",
     "text": [
      "enter a integer20\n",
      "number is harshad number\n"
     ]
    }
   ],
   "source": [
    "def harshad_num(num):\n",
    "    temp_num = num\n",
    "    if num == 1:\n",
    "        print(f'{num} is harshad number')\n",
    "    else:\n",
    "        while True:\n",
    "            temp = h_n_s(num)\n",
    "            res = (num/temp)\n",
    "            num = res\n",
    "            if (temp ==1 and (res == 10.0)):\n",
    "                print('number is harshad number')\n",
    "                break\n",
    "            elif temp ==1 and res != temp_num:\n",
    "                print('number is not harshad number')\n",
    "                break\n",
    "            elif res == 1 or res == temp_num :\n",
    "                print('number is harshad number')\n",
    "                break\n",
    "            \n",
    "        \n",
    "        \n",
    "n = int(input('enter a integer'))\n",
    "harshad_num(n)\n",
    "\n"
   ]
  },
  {
   "cell_type": "code",
   "execution_count": 56,
   "id": "25fcdb04",
   "metadata": {},
   "outputs": [
    {
     "name": "stdout",
     "output_type": "stream",
     "text": [
      "1 is harshad number\n",
      "2 is harshad number\n",
      "3 is harshad number\n",
      "4 is harshad number\n",
      "5 is harshad number\n",
      "6 is harshad number\n",
      "7 is harshad number\n",
      "8 is harshad number\n",
      "9 is harshad number\n",
      "10 is harshad number\n",
      "12 is harshad number\n",
      "18 is harshad number\n",
      "20 is harshad number\n",
      "21 is harshad number\n",
      "24 is harshad number\n",
      "27 is harshad number\n",
      "30 is harshad number\n",
      "36 is harshad number\n",
      "40 is harshad number\n",
      "42 is harshad number\n",
      "45 is harshad number\n",
      "48 is harshad number\n",
      "50 is harshad number\n",
      "54 is harshad number\n",
      "60 is harshad number\n",
      "63 is harshad number\n",
      "70 is harshad number\n",
      "72 is harshad number\n",
      "80 is harshad number\n",
      "81 is harshad number\n",
      "84 is harshad number\n",
      "90 is harshad number\n",
      "100 is harshad number\n"
     ]
    }
   ],
   "source": [
    "#6. Write a Python program to print all pronic numbers between 1 and 100?\n",
    "def harshad_num1(num):\n",
    "    temp_num = num\n",
    "    if num == 1:\n",
    "        print(f'{num} is harshad number')\n",
    "    else:\n",
    "        while True:\n",
    "            temp = h_n_s(num)\n",
    "            res = (num/temp)\n",
    "            num = res\n",
    "            if (temp ==1 and (res == 10.0)):\n",
    "                print(f'{temp_num} is harshad number')\n",
    "                break\n",
    "            elif temp ==1 and res != temp_num:\n",
    "                #print('number is not harshad number')\n",
    "                break\n",
    "            elif res == 1 or res == temp_num :\n",
    "                print(f'{temp_num} is harshad number')\n",
    "                break\n",
    "                \n",
    "for i in range(100):\n",
    "    harshad_num1(i+1)\n",
    "    "
   ]
  },
  {
   "cell_type": "code",
   "execution_count": null,
   "id": "54cd90de",
   "metadata": {},
   "outputs": [],
   "source": []
  }
 ],
 "metadata": {
  "kernelspec": {
   "display_name": "Python 3 (ipykernel)",
   "language": "python",
   "name": "python3"
  },
  "language_info": {
   "codemirror_mode": {
    "name": "ipython",
    "version": 3
   },
   "file_extension": ".py",
   "mimetype": "text/x-python",
   "name": "python",
   "nbconvert_exporter": "python",
   "pygments_lexer": "ipython3",
   "version": "3.9.7"
  }
 },
 "nbformat": 4,
 "nbformat_minor": 5
}
