{
 "cells": [
  {
   "cell_type": "markdown",
   "id": "f3bec412",
   "metadata": {},
   "source": [
    "1. What is the name of the feature responsible for generating Regex objects?\n",
    "\n",
    "Ans:\n",
    "we need to import module re to work on regular expressions\n",
    "the function that is responsible for creating regex object is re.compile()"
   ]
  },
  {
   "cell_type": "markdown",
   "id": "642366a6",
   "metadata": {},
   "source": [
    "2. Why do raw strings often appear in Regex objects?\n",
    "\n",
    "Ans:\n",
    "\n",
    "We use raw strings in order to avoid escaping of \\"
   ]
  },
  {
   "cell_type": "markdown",
   "id": "6df10de6",
   "metadata": {},
   "source": [
    "3. What is the return value of the search() method?\n",
    "\n",
    "Ans:\n",
    "\n",
    "Search method returns match objects"
   ]
  },
  {
   "cell_type": "markdown",
   "id": "4cbcdff8",
   "metadata": {},
   "source": [
    "4. From a Match item, how do you get the actual strings that match the pattern?\n",
    "\n",
    "Ans:\n",
    "\n",
    "By using group method we can get get the actual strings that match the pattern ."
   ]
  },
  {
   "cell_type": "markdown",
   "id": "b8884e2d",
   "metadata": {},
   "source": [
    "5. In the regex which created from the r'(\\d\\d\\d)-(\\d\\d\\d-\\d\\d\\d\\d)', what does group zero cover? Group 2? Group 1?\n",
    "\n",
    "Ans:\n",
    "\n",
    "Group 0 means entire match\n",
    "Group 1 means (\\d\\d\\d) this part\n",
    "Group 2 means (\\d\\d\\d-\\d\\d\\d\\d)"
   ]
  },
  {
   "cell_type": "markdown",
   "id": "6ab82e9f",
   "metadata": {},
   "source": [
    "6. In standard expression syntax, parentheses and intervals have distinct meanings. How can you tell a regex that you want it to fit real parentheses and periods?\n",
    "\n",
    "Ans:\n",
    "\n",
    "Periods are parathensis can be replaced by \\"
   ]
  },
  {
   "cell_type": "markdown",
   "id": "4a545814",
   "metadata": {},
   "source": [
    "7. The findall() method returns a string list or a list of string tuples. What causes it to return one of the two options?\n",
    "\n",
    "Ans:\n",
    "\n",
    "if regex has no groups list , it will return list or else it will return tuple of strings"
   ]
  },
  {
   "cell_type": "markdown",
   "id": "71c66bdc",
   "metadata": {},
   "source": [
    "8. In standard expressions, what does the | character mean?\n",
    "\n",
    "Ans:\n",
    "\n",
    "This character means or in standard expression "
   ]
  },
  {
   "cell_type": "markdown",
   "id": "4dac792c",
   "metadata": {},
   "source": [
    "9. In regular expressions, what does the character stand for?\n",
    "\n",
    "Ans:\n",
    "data is not sufficient to answer this question\n"
   ]
  },
  {
   "cell_type": "markdown",
   "id": "3ecdfc8a",
   "metadata": {},
   "source": [
    "10.In regular expressions, what is the difference between the + and * characters?\n",
    "\n",
    "Ans:\n",
    "\n",
    "+ --> matches one or more\n",
    "* --> matches zero or more\n"
   ]
  },
  {
   "cell_type": "markdown",
   "id": "654a6bcd",
   "metadata": {},
   "source": [
    "11. What is the difference between {4} and {4,5} in regular expression?\n",
    "\n",
    "Ans:\n",
    "\n",
    "{4} matches the group on it's left exactly 4 times\n",
    "{4,5} matches the group on it's left between 4 and 5 times\n"
   ]
  },
  {
   "cell_type": "markdown",
   "id": "f46844b5",
   "metadata": {},
   "source": [
    "12. What do you mean by the \\d, \\w, and \\s shorthand character classes signify in regular expressions?\n",
    "\n",
    "Ans:\n",
    "\n",
    "\\d --> matches a single digit\n",
    "\\w --> matches a single word\n",
    "\\s --> matches a single space\n"
   ]
  },
  {
   "cell_type": "markdown",
   "id": "41a527be",
   "metadata": {},
   "source": [
    "13. What do means by \\D, \\W, and \\S shorthand character classes signify in regular expressions?\n",
    "\n",
    "Ans:\n",
    "\n",
    "\\D --> matches a single not a digit\n",
    "\\W --> matches a single not a word\n",
    "\\S --> matches a single not a space\n"
   ]
  },
  {
   "cell_type": "markdown",
   "id": "c3007340",
   "metadata": {},
   "source": [
    "14. What is the difference between .*? and .*?\n",
    "\n"
   ]
  },
  {
   "cell_type": "markdown",
   "id": "fb6f0922",
   "metadata": {},
   "source": [
    "15. What is the syntax for matching both numbers and lowercase letters with a character class?\n",
    "\n",
    "Ans:\n",
    "\n",
    "[0-9a-z] "
   ]
  },
  {
   "cell_type": "markdown",
   "id": "ac27e305",
   "metadata": {},
   "source": [
    "16. What is the procedure for making a normal expression in regax case insensitive?\n",
    "\n",
    "\n",
    "Ans:\n",
    "\n",
    "by using method re.ignorecase"
   ]
  },
  {
   "cell_type": "markdown",
   "id": "e75cbb5a",
   "metadata": {},
   "source": [
    "17. What does the . character normally match? What does it match if re.DOTALL is passed as 2nd argument in re.compile()?\n"
   ]
  },
  {
   "cell_type": "markdown",
   "id": "818d4ab4",
   "metadata": {},
   "source": [
    "18. If numReg = re.compile(r'\\d+'), what will numRegex.sub('X', '11 drummers, 10 pipers, five rings, 4 hen') return?\n",
    "\n",
    "Ans:\n",
    "\n",
    "'X drummers,X pipers,X hen'"
   ]
  },
  {
   "cell_type": "markdown",
   "id": "69e30f8c",
   "metadata": {},
   "source": [
    "19. What does passing re.VERBOSE as the 2nd argument to re.compile() allow to do?\n"
   ]
  },
  {
   "cell_type": "markdown",
   "id": "204866d8",
   "metadata": {},
   "source": [
    "20. How would you write a regex that match a number with comma for every three digits? It must match the given following:\n",
    "'42'\n",
    "'1,234'\n",
    "'6,368,745'\n",
    "but not the following:\n",
    "'12,34,567' (which has only two digits between the commas)\n",
    "'1234' (which lacks commas)\n"
   ]
  },
  {
   "cell_type": "markdown",
   "id": "860db607",
   "metadata": {},
   "source": [
    "21. How would you write a regex that matches the full name of someone whose last name is Watanabe? You can assume that the first name that comes before it will always be one word that begins with a capital letter. The regex must match the following:\n",
    "'Haruto Watanabe'\n",
    "'Alice Watanabe'\n",
    "'RoboCop Watanabe'\n",
    "but not the following:\n",
    "'haruto Watanabe' (where the first name is not capitalized)\n",
    "'Mr. Watanabe' (where the preceding word has a nonletter character)\n",
    "'Watanabe' (which has no first name)\n",
    "'Haruto watanabe' (where Watanabe is not capitalized)\n"
   ]
  },
  {
   "cell_type": "markdown",
   "id": "e604beec",
   "metadata": {},
   "source": [
    "22. How would you write a regex that matches a sentence where the first word is either Alice, Bob, or Carol; the second word is either eats, pets, or throws; the third word is apples, cats, or baseballs; and the sentence ends with a period? This regex should be case-insensitive. It must match the following:\n",
    "'Alice eats apples.'\n",
    "'Bob pets cats.'\n",
    "'Carol throws baseballs.'\n",
    "'Alice throws Apples.'\n",
    "'BOB EATS CATS.'\n",
    "but not the following:\n",
    "'RoboCop eats apples.'\n",
    "'ALICE THROWS FOOTBALLS.'\n",
    "'Carol eats 7 cats.'\n"
   ]
  },
  {
   "cell_type": "markdown",
   "id": "34a8ea1a",
   "metadata": {},
   "source": []
  },
  {
   "cell_type": "markdown",
   "id": "c251b80c",
   "metadata": {},
   "source": []
  },
  {
   "cell_type": "markdown",
   "id": "65cf1513",
   "metadata": {},
   "source": []
  }
 ],
 "metadata": {
  "kernelspec": {
   "display_name": "Python 3 (ipykernel)",
   "language": "python",
   "name": "python3"
  },
  "language_info": {
   "codemirror_mode": {
    "name": "ipython",
    "version": 3
   },
   "file_extension": ".py",
   "mimetype": "text/x-python",
   "name": "python",
   "nbconvert_exporter": "python",
   "pygments_lexer": "ipython3",
   "version": "3.9.7"
  }
 },
 "nbformat": 4,
 "nbformat_minor": 5
}
