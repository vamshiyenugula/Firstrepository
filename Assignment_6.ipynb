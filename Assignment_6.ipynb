{
 "cells": [
  {
   "cell_type": "code",
   "execution_count": 2,
   "id": "d2fa9445",
   "metadata": {},
   "outputs": [
    {
     "name": "stdout",
     "output_type": "stream",
     "text": [
      "enter a last index : 5\n",
      "0\n",
      "1\n",
      "1\n",
      "2\n",
      "3\n"
     ]
    }
   ],
   "source": [
    "#1.Write a Python Program to Display Fibonacci Sequence Using Recursion?\n",
    "def fib(n):\n",
    "    if n <= 1:\n",
    "        return n\n",
    "    else:\n",
    "        return (fib(n-1)+fib(n-2))\n",
    "\n",
    "num = int(input(\"enter a last index : \"))\n",
    "for i in range(num):\n",
    "    print(fib(i))\n",
    "    \n"
   ]
  },
  {
   "cell_type": "code",
   "execution_count": 1,
   "id": "1c2aad3a",
   "metadata": {},
   "outputs": [
    {
     "name": "stdout",
     "output_type": "stream",
     "text": [
      "enter a number : 5\n",
      "120\n"
     ]
    }
   ],
   "source": [
    "#2.Write a Python Program to Find Factorial of Number Using Recursion?\n",
    "def fact(n):\n",
    "    if n == 1:\n",
    "        return 1\n",
    "    else:\n",
    "        return (n*fact(n-1))\n",
    "num = int(input(\"enter a number : \"))\n",
    "print(fact(num))"
   ]
  },
  {
   "cell_type": "code",
   "execution_count": 10,
   "id": "11fa288f",
   "metadata": {},
   "outputs": [
    {
     "name": "stdout",
     "output_type": "stream",
     "text": [
      "enter height in meters1.76784\n",
      "enter weight in kgs60\n",
      "Your BMI is 19.1984133472825 and you are Normal weight\n"
     ]
    }
   ],
   "source": [
    "#3.Write a Python Program to calculate your Body Mass Index?\n",
    "height = float(input(\"enter height in meters\"))\n",
    "weight = float(input(\"enter weight in kgs\"))\n",
    "bmi = weight/((height)**2)\n",
    "status = \"\"\n",
    "if bmi < 18.5:\n",
    "    status = \"Under Weight\"\n",
    "elif 18.5 < bmi <= 24.9:\n",
    "    status = \"Normal weight\"\n",
    "else:\n",
    "    status = \"Over weight\"\n",
    "    \n",
    "print(f'Your BMI is {bmi} and you are {status}')"
   ]
  },
  {
   "cell_type": "code",
   "execution_count": 12,
   "id": "7b93fa5a",
   "metadata": {},
   "outputs": [
    {
     "name": "stdout",
     "output_type": "stream",
     "text": [
      "enter a number : 14\n",
      "The natural logarithm of 14.0 is 2.6390573296152584\n"
     ]
    }
   ],
   "source": [
    "#4.Write a Python Program to calculate the natural logarithm of any number?\n",
    "import math\n",
    "num = float(input(\"enter a number : \"))\n",
    "print(f'The natural logarithm of {num} is {math.log(num)}')"
   ]
  },
  {
   "cell_type": "code",
   "execution_count": 7,
   "id": "d63403d7",
   "metadata": {},
   "outputs": [
    {
     "name": "stdout",
     "output_type": "stream",
     "text": [
      "enter a number:3\n",
      "cube sum of first 3 natural numbers is 36\n"
     ]
    }
   ],
   "source": [
    "#5.Write a Python Program for cube sum of first n natural numbers?\n",
    "num = int(input(\"enter a number:\"))\n",
    "res = (int((num*(num+1))/2))**2\n",
    "print(f'cube sum of first {num} natural numbers is {res}')"
   ]
  },
  {
   "cell_type": "code",
   "execution_count": null,
   "id": "320fcbbf",
   "metadata": {},
   "outputs": [],
   "source": []
  }
 ],
 "metadata": {
  "kernelspec": {
   "display_name": "Python 3 (ipykernel)",
   "language": "python",
   "name": "python3"
  },
  "language_info": {
   "codemirror_mode": {
    "name": "ipython",
    "version": 3
   },
   "file_extension": ".py",
   "mimetype": "text/x-python",
   "name": "python",
   "nbconvert_exporter": "python",
   "pygments_lexer": "ipython3",
   "version": "3.9.7"
  }
 },
 "nbformat": 4,
 "nbformat_minor": 5
}
