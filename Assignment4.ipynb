{
 "cells": [
  {
   "cell_type": "markdown",
   "id": "993c5f50",
   "metadata": {},
   "source": [
    "1. What exactly is []?\n",
    "\n",
    "Ans:\n",
    "\n",
    "[] indicates it is a list.\n"
   ]
  },
  {
   "cell_type": "markdown",
   "id": "d05dffb7",
   "metadata": {},
   "source": [
    "2. In a list of values stored in a variable called spam, how would you assign the value 'hello' as the third value? (Assume [2, 4, 6, 8, 10] are in spam.)\n",
    "\n",
    "\n",
    "Ans:\n",
    "\n",
    "\n",
    "spam[2] = 'hello'\n"
   ]
  },
  {
   "cell_type": "markdown",
   "id": "a973bab8",
   "metadata": {},
   "source": [
    "Let's pretend the spam includes the list ['a', 'b', 'c', 'd'] for the next three queries.\n"
   ]
  },
  {
   "cell_type": "markdown",
   "id": "ce08f212",
   "metadata": {},
   "source": [
    "3. What is the value of spam[int(int('3' * 2) / 11)]?\n",
    "\n",
    "Ans:\n",
    "\n",
    "It will be 'd'\n"
   ]
  },
  {
   "cell_type": "markdown",
   "id": "0c9c7d3a",
   "metadata": {},
   "source": [
    "4. What is the value of spam[-1]?\n",
    "\n",
    "\n",
    "Ans:\n",
    "\n",
    "It will be 'd'\n",
    "\n"
   ]
  },
  {
   "cell_type": "markdown",
   "id": "c49f4aae",
   "metadata": {},
   "source": [
    "5. What is the value of spam[:2]?\n",
    "\n",
    "Ans:\n",
    "\n",
    "It will be ['a','b']\n",
    " \n",
    "\n"
   ]
  },
  {
   "cell_type": "markdown",
   "id": "414bdb34",
   "metadata": {},
   "source": [
    "Let's pretend bacon has the list [3.14, 'cat,' 11, 'cat,' True] for the next three questions."
   ]
  },
  {
   "cell_type": "markdown",
   "id": "b67ed67a",
   "metadata": {},
   "source": [
    "6. What is the value of bacon.index('cat')?\n",
    "Ans:\n",
    "\n",
    "It will be 1\n",
    " \n",
    "\n"
   ]
  },
  {
   "cell_type": "markdown",
   "id": "aa6d0a2e",
   "metadata": {},
   "source": [
    "7. How does bacon.append(99) change the look of the list value in bacon?\n",
    "Ans:\n",
    "\n",
    "It will be [3.14, 'cat,' 11, 'cat,' True, 99]\n",
    " \n"
   ]
  },
  {
   "cell_type": "markdown",
   "id": "0e75b93b",
   "metadata": {},
   "source": [
    "8. How does bacon.remove('cat') change the look of the list in bacon?\n",
    "\n",
    "Ans:\n",
    "\n",
    "It will be [3.14, 11, 'cat', True, 99] \n"
   ]
  },
  {
   "cell_type": "markdown",
   "id": "876c6478",
   "metadata": {},
   "source": [
    "9. What are the list concatenation and list replication operators?\n",
    "\n",
    "List can be concatinated by using + example: l1+l2 \n",
    "\n",
    "List can be replicated by using l2 = l3[:]"
   ]
  },
  {
   "cell_type": "markdown",
   "id": "2a40e3fd",
   "metadata": {},
   "source": [
    "10. What is difference between the list methods append() and insert()?\n",
    "\n",
    "Ans:\n",
    "\n",
    "append(value) method will add value at the end of the list \n",
    "\n",
    "insert() method will add value in the particular location in a list"
   ]
  },
  {
   "cell_type": "markdown",
   "id": "fbcd849a",
   "metadata": {},
   "source": [
    "11. What are the two methods for removing items from a list?\n",
    "\n",
    "Ans:\n",
    "\n",
    "pop() , this method is used to delete last element in the list\n",
    "\n",
    "remove() , this method will remove the value which we passed\n"
   ]
  },
  {
   "cell_type": "markdown",
   "id": "fdc36156",
   "metadata": {},
   "source": [
    "12. Describe how list values and string values are identical.\n",
    "\n",
    "Ans:\n",
    "\n",
    "We can modify list values and string values they are muttable\n"
   ]
  },
  {
   "cell_type": "markdown",
   "id": "c5754be5",
   "metadata": {},
   "source": [
    "13. What's the difference between tuples and lists?\n",
    "\n",
    "\n",
    "Ans:\n",
    "\n",
    "Lists are mutable datatypes we can modify values in list\n",
    "\n",
    "tuples are immutable datatypes we can't , modify values in tuples"
   ]
  },
  {
   "cell_type": "markdown",
   "id": "cdedea35",
   "metadata": {},
   "source": [
    "14. How do you type a tuple value that only contains the integer 42?\n",
    "\n",
    "Ans:\n",
    "\n",
    "This is not possible because t = tuple(42) , the complier still treat it as an int.\n"
   ]
  },
  {
   "cell_type": "markdown",
   "id": "fdaa81b4",
   "metadata": {},
   "source": [
    "15. How do you get a list value's tuple form? How do you get a tuple value's list form?\n",
    "\n",
    "Ans:\n",
    "\n",
    "if t is a tuple and l is list\n",
    "\n",
    "We can make tuple as list by using type conversion Example: x = list(t)\n",
    "\n",
    "We can make list as tuple by using type conversion Example:x = tuple(l)\n"
   ]
  },
  {
   "cell_type": "markdown",
   "id": "700264cf",
   "metadata": {},
   "source": [
    "16. Variables that \"contain\" list values are not necessarily lists themselves. Instead, what do they contain?\n",
    "\n",
    "Ans:\n",
    "\n",
    "We can store any datatypes in list like int,float,complex,str,list,tuple,bool,dict,set\n"
   ]
  },
  {
   "cell_type": "markdown",
   "id": "698e290b",
   "metadata": {},
   "source": [
    "17. How do you distinguish between copy.copy() and copy.deepcopy()?\n",
    "\n",
    "Ans:\n",
    "\n",
    "copy.copy() will make a sollow copy means if we copy a into b , b will only store the location of a , if anything is modified in b will also be reflected in a\n",
    "\n",
    "\n",
    "copy.deepcopy() will copy entire values into new memory location\n",
    "\n"
   ]
  },
  {
   "cell_type": "code",
   "execution_count": null,
   "id": "65df2eba",
   "metadata": {},
   "outputs": [],
   "source": []
  }
 ],
 "metadata": {
  "kernelspec": {
   "display_name": "Python 3 (ipykernel)",
   "language": "python",
   "name": "python3"
  },
  "language_info": {
   "codemirror_mode": {
    "name": "ipython",
    "version": 3
   },
   "file_extension": ".py",
   "mimetype": "text/x-python",
   "name": "python",
   "nbconvert_exporter": "python",
   "pygments_lexer": "ipython3",
   "version": "3.9.7"
  }
 },
 "nbformat": 4,
 "nbformat_minor": 5
}
