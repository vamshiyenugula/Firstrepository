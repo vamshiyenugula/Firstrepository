{
 "cells": [
  {
   "cell_type": "markdown",
   "id": "21d80f10",
   "metadata": {},
   "source": [
    "1. Is the Python Standard Library included with PyInputPlus?\n",
    "\n",
    "Ans:\n",
    "\n",
    "PyInputPlus is not an standard library\n"
   ]
  },
  {
   "cell_type": "markdown",
   "id": "7d50fe14",
   "metadata": {},
   "source": [
    "2. Why is PyInputPlus commonly imported with import pyinputplus as pypi?\n",
    "\n",
    "Ans:\n",
    "\n",
    "Its is a bestpratice to used as pypi , when we write a code which is \n"
   ]
  },
  {
   "cell_type": "markdown",
   "id": "321b4fd8",
   "metadata": {},
   "source": [
    "3. How do you distinguish between inputInt() and inputFloat()?\n",
    "\n",
    "Ans:\n",
    "\n",
    "inputInt() ->  This will only accept int input , it will prompt for input till we enter intiger value\n",
    "\n",
    "inputFloat  ->  This will only accept float input , it will prompt for input till we enter float value\n"
   ]
  },
  {
   "cell_type": "markdown",
   "id": "0b27f330",
   "metadata": {},
   "source": [
    "4. Using PyInputPlus, how do you ensure that the user enters a whole number between 0 and 99?\n",
    "\n",
    "Ans:\n",
    "\n",
    "we can use this\n",
    "import PyInputPlus as pypi\n",
    "\n",
    "inp = pypi.inputInt(min = 1 , lessthan = 100 )\n"
   ]
  },
  {
   "cell_type": "markdown",
   "id": "5b056684",
   "metadata": {},
   "source": [
    "5. What is transferred to the keyword arguments allowRegexes and blockRegexes?\n",
    "\n",
    "\n"
   ]
  },
  {
   "cell_type": "markdown",
   "id": "e65ddf08",
   "metadata": {},
   "source": [
    "6. If a blank input is entered three times, what does inputStr(limit=3) do?\n",
    "\n",
    "Ans:\n",
    "\n",
    "First it will raise blank values are not accepted exeception , than it will raise limit exception\n"
   ]
  },
  {
   "cell_type": "markdown",
   "id": "cfddb678",
   "metadata": {},
   "source": [
    "7. If blank input is entered three times, what does inputStr(limit=3, default=&#39;hello&#39;) do?\n",
    "\n",
    "Ans:\n",
    "\n",
    "The default value entered is not string , it is not executable"
   ]
  },
  {
   "cell_type": "code",
   "execution_count": null,
   "id": "b35837df",
   "metadata": {},
   "outputs": [],
   "source": [
    "\n",
    "\n"
   ]
  },
  {
   "cell_type": "markdown",
   "id": "60eebb28",
   "metadata": {},
   "source": []
  }
 ],
 "metadata": {
  "kernelspec": {
   "display_name": "Python 3 (ipykernel)",
   "language": "python",
   "name": "python3"
  },
  "language_info": {
   "codemirror_mode": {
    "name": "ipython",
    "version": 3
   },
   "file_extension": ".py",
   "mimetype": "text/x-python",
   "name": "python",
   "nbconvert_exporter": "python",
   "pygments_lexer": "ipython3",
   "version": "3.9.7"
  }
 },
 "nbformat": 4,
 "nbformat_minor": 5
}
