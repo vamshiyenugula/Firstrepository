{
 "cells": [
  {
   "cell_type": "code",
   "execution_count": 3,
   "id": "2ea1dfce",
   "metadata": {},
   "outputs": [
    {
     "name": "stdout",
     "output_type": "stream",
     "text": [
      "enter a number-1\n"
     ]
    },
    {
     "ename": "AssertionError",
     "evalue": "Number is negative",
     "output_type": "error",
     "traceback": [
      "\u001b[1;31m---------------------------------------------------------------------------\u001b[0m",
      "\u001b[1;31mAssertionError\u001b[0m                            Traceback (most recent call last)",
      "\u001b[1;32m~\\AppData\\Local\\Temp/ipykernel_12916/2771579612.py\u001b[0m in \u001b[0;36m<module>\u001b[1;34m\u001b[0m\n\u001b[0;32m      2\u001b[0m \u001b[0mspam\u001b[0m \u001b[1;33m=\u001b[0m \u001b[0mint\u001b[0m\u001b[1;33m(\u001b[0m\u001b[0minput\u001b[0m\u001b[1;33m(\u001b[0m\u001b[1;34m'enter a number'\u001b[0m\u001b[1;33m)\u001b[0m\u001b[1;33m)\u001b[0m\u001b[1;33m\u001b[0m\u001b[1;33m\u001b[0m\u001b[0m\n\u001b[0;32m      3\u001b[0m \u001b[1;32mif\u001b[0m \u001b[0mspam\u001b[0m \u001b[1;33m<\u001b[0m \u001b[1;36m0\u001b[0m\u001b[1;33m:\u001b[0m\u001b[1;33m\u001b[0m\u001b[1;33m\u001b[0m\u001b[0m\n\u001b[1;32m----> 4\u001b[1;33m     \u001b[1;32mraise\u001b[0m \u001b[0mAssertionError\u001b[0m\u001b[1;33m(\u001b[0m\u001b[1;34m'Number is negative'\u001b[0m\u001b[1;33m)\u001b[0m\u001b[1;33m\u001b[0m\u001b[1;33m\u001b[0m\u001b[0m\n\u001b[0m",
      "\u001b[1;31mAssertionError\u001b[0m: Number is negative"
     ]
    }
   ],
   "source": [
    "#1. Create an assert statement that throws an AssertionError if the variable spam is a negative integer.\n",
    "spam = int(input('enter a number'))\n",
    "if spam < 0:\n",
    "    raise AssertionError('Number is negative')"
   ]
  },
  {
   "cell_type": "code",
   "execution_count": 10,
   "id": "e696c3ee",
   "metadata": {},
   "outputs": [
    {
     "name": "stdout",
     "output_type": "stream",
     "text": [
      "enter a string : &#39;goodbye&#39;\n",
      "enter second string : &#39;GOODbye&#39;\n"
     ]
    },
    {
     "ename": "AssertionError",
     "evalue": "strings are same as each other",
     "output_type": "error",
     "traceback": [
      "\u001b[1;31m---------------------------------------------------------------------------\u001b[0m",
      "\u001b[1;31mAssertionError\u001b[0m                            Traceback (most recent call last)",
      "\u001b[1;32m~\\AppData\\Local\\Temp/ipykernel_12916/1991049160.py\u001b[0m in \u001b[0;36m<module>\u001b[1;34m\u001b[0m\n\u001b[0;32m      7\u001b[0m \u001b[0meggs\u001b[0m \u001b[1;33m=\u001b[0m \u001b[0minput\u001b[0m\u001b[1;33m(\u001b[0m\u001b[1;34m'enter second string : '\u001b[0m\u001b[1;33m)\u001b[0m\u001b[1;33m\u001b[0m\u001b[1;33m\u001b[0m\u001b[0m\n\u001b[0;32m      8\u001b[0m \u001b[1;32mif\u001b[0m\u001b[1;33m(\u001b[0m\u001b[0mspam\u001b[0m\u001b[1;33m.\u001b[0m\u001b[0mlower\u001b[0m\u001b[1;33m(\u001b[0m\u001b[1;33m)\u001b[0m \u001b[1;33m==\u001b[0m \u001b[0meggs\u001b[0m\u001b[1;33m.\u001b[0m\u001b[0mlower\u001b[0m\u001b[1;33m(\u001b[0m\u001b[1;33m)\u001b[0m\u001b[1;33m)\u001b[0m\u001b[1;33m:\u001b[0m\u001b[1;33m\u001b[0m\u001b[1;33m\u001b[0m\u001b[0m\n\u001b[1;32m----> 9\u001b[1;33m     \u001b[1;32mraise\u001b[0m \u001b[0mAssertionError\u001b[0m\u001b[1;33m(\u001b[0m\u001b[1;34m'strings are same as each other'\u001b[0m\u001b[1;33m)\u001b[0m\u001b[1;33m\u001b[0m\u001b[1;33m\u001b[0m\u001b[0m\n\u001b[0m",
      "\u001b[1;31mAssertionError\u001b[0m: strings are same as each other"
     ]
    }
   ],
   "source": [
    "'''\n",
    "2. Write an assert statement that triggers an AssertionError if the variables eggs and bacon contain\n",
    "strings that are the same as each other, even if their cases are different (that is, &#39;hello&#39; and &#39;hello&#39; are\n",
    "considered the same, and &#39;goodbye&#39; and &#39;GOODbye&#39; are also considered the same).\n",
    "'''\n",
    "spam = input('enter a string : ')\n",
    "eggs = input('enter second string : ')\n",
    "if(spam.lower() == eggs.lower()):\n",
    "    raise AssertionError('strings are same as each other')"
   ]
  },
  {
   "cell_type": "code",
   "execution_count": 12,
   "id": "977ae0aa",
   "metadata": {},
   "outputs": [
    {
     "ename": "AssertionError",
     "evalue": "this throws assertion error every time",
     "output_type": "error",
     "traceback": [
      "\u001b[1;31m---------------------------------------------------------------------------\u001b[0m",
      "\u001b[1;31mAssertionError\u001b[0m                            Traceback (most recent call last)",
      "\u001b[1;32m~\\AppData\\Local\\Temp/ipykernel_12916/3977968539.py\u001b[0m in \u001b[0;36m<module>\u001b[1;34m\u001b[0m\n\u001b[0;32m      1\u001b[0m \u001b[1;31m#3. Create an assert statement that throws an AssertionError every time.\u001b[0m\u001b[1;33m\u001b[0m\u001b[1;33m\u001b[0m\u001b[0m\n\u001b[0;32m      2\u001b[0m \u001b[1;33m\u001b[0m\u001b[0m\n\u001b[1;32m----> 3\u001b[1;33m \u001b[1;32mraise\u001b[0m \u001b[0mAssertionError\u001b[0m\u001b[1;33m(\u001b[0m\u001b[1;34m'this throws assertion error every time'\u001b[0m\u001b[1;33m)\u001b[0m\u001b[1;33m\u001b[0m\u001b[1;33m\u001b[0m\u001b[0m\n\u001b[0m",
      "\u001b[1;31mAssertionError\u001b[0m: this throws assertion error every time"
     ]
    }
   ],
   "source": [
    "#3. Create an assert statement that throws an AssertionError every time.\n",
    "\n",
    "raise AssertionError('this throws assertion error every time')\n"
   ]
  },
  {
   "cell_type": "markdown",
   "id": "3bcadcc7",
   "metadata": {},
   "source": [
    "#4. What are the two lines that must be present in your software in order to call logging.debug()?\n",
    "\n",
    "Ans:\n",
    "\n",
    "1.first we have to import module:\n",
    "import logging module\n",
    "\n",
    "2.create and configure logger:\n",
    "\n",
    "logging.basicConfig(filename=\"newfile.log\",\n",
    "                    format='%(asctime)s %(message)s',\n",
    "                    filemode='w')\n",
    " \n",
    "3.create an object:\n",
    "\n",
    "logger = logging.getLogger()\n",
    " \n",
    "4.set level for logger:\n",
    "\n",
    "logger.setLevel(logging.DEBUG)\n",
    "\n",
    "Now we can use logger\n"
   ]
  },
  {
   "cell_type": "markdown",
   "id": "67779abc",
   "metadata": {},
   "source": [
    "'''\n",
    "5. What are the two lines that your program must have in order to have logging.debug() send a\n",
    "logging message to a file named programLog.txt?\n",
    "'''\n",
    "\n",
    "\n",
    "Ans:\n",
    "\n",
    "first we have to import module:\n",
    "import logging module\n",
    "\n",
    "create and configure logger:\n",
    "\n",
    "logging.basicConfig(filename=\"newfile.log\",\n",
    "                    format='%(asctime)s %(message)s',\n",
    "                    filemode='w')\n",
    " \n",
    "create an object:\n",
    "\n",
    "logger = logging.getLogger()\n",
    " \n",
    "set level for logger:\n",
    "\n",
    "logger.setLevel(logging.DEBUG)\n",
    "\n",
    "Now we can use logger\n"
   ]
  },
  {
   "cell_type": "markdown",
   "id": "bd7c8826",
   "metadata": {},
   "source": [
    "#6. What are the five levels of logging?\n",
    "\n",
    "Five level of logging are:\n",
    "1.debug\n",
    "2.info\n",
    "3.warning\n",
    "4.error\n",
    "5.crirical\n",
    "    \n",
    "\n"
   ]
  },
  {
   "cell_type": "markdown",
   "id": "1bb53143",
   "metadata": {},
   "source": [
    "#7. What line of code would you add to your software to disable all logging messages?\n",
    "\n",
    "Ans:\n",
    "\n",
    "\n"
   ]
  },
  {
   "cell_type": "markdown",
   "id": "42c36e55",
   "metadata": {},
   "source": [
    "#8.Why is using logging messages better than using print() to display the same message?\n",
    "\n",
    "Ans:\n",
    "We can can set levels using level in logging by which we can we can identify what we can filter what we want, by using we are writting into a file which will be present even after executing program for future refrerence, in organiasation maintining logging is best pratice.\n"
   ]
  },
  {
   "cell_type": "code",
   "execution_count": null,
   "id": "baa1cccd",
   "metadata": {},
   "outputs": [],
   "source": [
    "#9. What are the differences between the Step Over, Step In, and Step Out buttons in the debugger?\n"
   ]
  },
  {
   "cell_type": "code",
   "execution_count": null,
   "id": "32cdae3d",
   "metadata": {},
   "outputs": [],
   "source": [
    "#10.After you click Continue, when will the debugger stop ?\n"
   ]
  },
  {
   "cell_type": "code",
   "execution_count": null,
   "id": "6f6519ec",
   "metadata": {},
   "outputs": [],
   "source": [
    "#11. What is the concept of a breakpoint?"
   ]
  },
  {
   "cell_type": "code",
   "execution_count": null,
   "id": "19c55477",
   "metadata": {},
   "outputs": [],
   "source": []
  }
 ],
 "metadata": {
  "kernelspec": {
   "display_name": "Python 3 (ipykernel)",
   "language": "python",
   "name": "python3"
  },
  "language_info": {
   "codemirror_mode": {
    "name": "ipython",
    "version": 3
   },
   "file_extension": ".py",
   "mimetype": "text/x-python",
   "name": "python",
   "nbconvert_exporter": "python",
   "pygments_lexer": "ipython3",
   "version": "3.9.7"
  }
 },
 "nbformat": 4,
 "nbformat_minor": 5
}
