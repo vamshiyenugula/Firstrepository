{
 "cells": [
  {
   "cell_type": "code",
   "execution_count": 2,
   "id": "dea649ee",
   "metadata": {},
   "outputs": [
    {
     "name": "stdout",
     "output_type": "stream",
     "text": [
      "enter number of hours :1\n"
     ]
    },
    {
     "data": {
      "text/plain": [
       "3600"
      ]
     },
     "execution_count": 2,
     "metadata": {},
     "output_type": "execute_result"
    }
   ],
   "source": [
    "'''\n",
    "1.How many seconds are in an hour? Use the interactive interpreter as a calculator and multiply the\n",
    "number of seconds in a minute (60) by the number of minutes in an hour (also 60).\n",
    "\n",
    "\n",
    "Ans:\n",
    "'''\n",
    "no_of_hour = int(input('enter number of hours :'))\n",
    "min_per_hour = 60 * no_of_hour\n",
    "min_per_hour * 60\n"
   ]
  },
  {
   "cell_type": "code",
   "execution_count": 4,
   "id": "a4d3ebcb",
   "metadata": {},
   "outputs": [
    {
     "name": "stdout",
     "output_type": "stream",
     "text": [
      "enter number of hours :1\n"
     ]
    }
   ],
   "source": [
    "'''\n",
    "2. Assign the result from the previous task (seconds in an hour) to a variable called\n",
    "seconds_per_hour.\n",
    "\n",
    "\n",
    "Ans:\n",
    "'''\n",
    "\n",
    "no_of_hour = int(input('enter number of hours :'))\n",
    "min_per_hour = 60 * no_of_hour\n",
    "seconds_per_hour = min_per_hour * 60"
   ]
  },
  {
   "cell_type": "code",
   "execution_count": 6,
   "id": "42144aac",
   "metadata": {},
   "outputs": [
    {
     "name": "stdout",
     "output_type": "stream",
     "text": [
      "enter number of days :1\n"
     ]
    },
    {
     "data": {
      "text/plain": [
       "86400"
      ]
     },
     "execution_count": 6,
     "metadata": {},
     "output_type": "execute_result"
    }
   ],
   "source": [
    "'''\n",
    "3. How many seconds do you think there are in a day? Make use of the variables seconds per hour\n",
    "and minutes per hour.\n",
    "\n",
    "\n",
    "Ans:\n",
    "'''\n",
    "no_of_days = int(input('enter number of days :'))\n",
    "no_of_hour_in_day = no_of_days * 24\n",
    "min_per_day = 60 * no_of_hour_in_day\n",
    "min_per_day * 60\n"
   ]
  },
  {
   "cell_type": "code",
   "execution_count": null,
   "id": "7cbafc94",
   "metadata": {},
   "outputs": [],
   "source": [
    "'''\n",
    "4. Calculate seconds per day again, but this time save the result in a variable called seconds_per_day\n",
    "\n",
    "\n",
    "Ans:\n",
    "'''\n",
    "\n",
    "no_of_days = int(input('enter number of days :'))\n",
    "no_of_hour_in_day = no_of_days * 24\n",
    "min_per_day = 60 * no_of_hour_in_day\n",
    "seconds_per_day = min_per_day * 60"
   ]
  },
  {
   "cell_type": "code",
   "execution_count": 7,
   "id": "3b56b01b",
   "metadata": {},
   "outputs": [
    {
     "data": {
      "text/plain": [
       "24.0"
      ]
     },
     "execution_count": 7,
     "metadata": {},
     "output_type": "execute_result"
    }
   ],
   "source": [
    "'''\n",
    "5. Divide seconds_per_day by seconds_per_hour. Use floating-point (/) division.\n",
    "\n",
    "\n",
    "Ans:\n",
    "'''\n",
    "\n",
    "no_of_hour = 1\n",
    "min_per_hour = 60 * no_of_hour\n",
    "seconds_per_hour = min_per_hour * 60\n",
    "\n",
    "\n",
    "no_of_days = 1\n",
    "no_of_hour_in_day = no_of_days * 24\n",
    "min_per_day = 60 * no_of_hour_in_day\n",
    "seconds_per_day = min_per_day * 60\n",
    "\n",
    "\n",
    "seconds_per_day/seconds_per_hour\n"
   ]
  },
  {
   "cell_type": "code",
   "execution_count": 8,
   "id": "e0545936",
   "metadata": {},
   "outputs": [
    {
     "data": {
      "text/plain": [
       "24"
      ]
     },
     "execution_count": 8,
     "metadata": {},
     "output_type": "execute_result"
    }
   ],
   "source": [
    "\n",
    "'''\n",
    "6. Divide seconds_per_day by seconds_per_hour, using integer (//) division. Did this number agree\n",
    "with the floating-point value from the previous question, aside from the final .0?\n",
    "\n",
    "\n",
    "Ans:\n",
    "'''\n",
    "\n",
    "no_of_hour = 1\n",
    "min_per_hour = 60 * no_of_hour\n",
    "seconds_per_hour = min_per_hour * 60\n",
    "\n",
    "\n",
    "no_of_days = 1\n",
    "no_of_hour_in_day = no_of_days * 24\n",
    "min_per_day = 60 * no_of_hour_in_day\n",
    "seconds_per_day = min_per_day * 60\n",
    "\n",
    "\n",
    "seconds_per_day//seconds_per_hour\n",
    "\n",
    "\"Yes it is maching\"\n"
   ]
  },
  {
   "cell_type": "code",
   "execution_count": 40,
   "id": "52e6251a",
   "metadata": {},
   "outputs": [
    {
     "name": "stdout",
     "output_type": "stream",
     "text": [
      "1\n",
      "2\n",
      "3\n",
      "5\n",
      "7\n",
      "11\n",
      "13\n",
      "17\n",
      "19\n"
     ]
    }
   ],
   "source": [
    "'''\n",
    "7. Write a generator, genPrimes, that returns the sequence of prime numbers on successive calls to\n",
    "its next() method: 2, 3, 5, 7, 11, ...\n",
    "\n",
    "Ans:\n",
    "'''\n",
    "\n",
    "def genPrimes(num):\n",
    "    if num > 0:\n",
    "        for i in range(num):\n",
    "            inn = i+1\n",
    "            cou = 0\n",
    "            for k in range(inn):\n",
    "                j = k+1\n",
    "                if int(inn%j) == 0:\n",
    "                    cou += 1\n",
    "            if cou <= 2:\n",
    "                yield inn\n",
    "\n",
    "r = genPrimes(20)\n",
    "for i in r:\n",
    "    print(i)"
   ]
  },
  {
   "cell_type": "markdown",
   "id": "09e52df2",
   "metadata": {},
   "source": []
  }
 ],
 "metadata": {
  "kernelspec": {
   "display_name": "Python 3 (ipykernel)",
   "language": "python",
   "name": "python3"
  },
  "language_info": {
   "codemirror_mode": {
    "name": "ipython",
    "version": 3
   },
   "file_extension": ".py",
   "mimetype": "text/x-python",
   "name": "python",
   "nbconvert_exporter": "python",
   "pygments_lexer": "ipython3",
   "version": "3.9.7"
  }
 },
 "nbformat": 4,
 "nbformat_minor": 5
}
