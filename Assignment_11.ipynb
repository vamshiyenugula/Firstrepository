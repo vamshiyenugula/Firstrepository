{
 "cells": [
  {
   "cell_type": "code",
   "execution_count": 4,
   "id": "53d30230",
   "metadata": {},
   "outputs": [
    {
     "name": "stdout",
     "output_type": "stream",
     "text": [
      "enter a word : \n",
      "ineuron\n",
      "enter a number : 3\n",
      "The number is greater than given leangth\n"
     ]
    }
   ],
   "source": [
    "#1.Write a Python program to find words which are greater than given length k?\n",
    "\n",
    "input_word = input('enter a word : \\n')\n",
    "input_len = int(input('enter a number : '))\n",
    "\n",
    "if len(input_word) > input_len:\n",
    "    print('The number is greater than given leangth')\n",
    "else:\n",
    "    print('The number is lessthan given leangth')\n"
   ]
  },
  {
   "cell_type": "code",
   "execution_count": 12,
   "id": "29b394a0",
   "metadata": {},
   "outputs": [
    {
     "name": "stdout",
     "output_type": "stream",
     "text": [
      "enter a string : vamshi\n",
      "enter a position which you want to remove : 1\n",
      "vmshi\n"
     ]
    }
   ],
   "source": [
    "#2.Write a Python program for removing i-th character from a string?\n",
    "input_string = input('enter a string : ')\n",
    "input_num = int(input('enter a position which you want to remove : '))\n",
    "temp_string = input_string.replace(input_string[input_num],'')\n",
    "print(temp_string)\n",
    "\n"
   ]
  },
  {
   "cell_type": "code",
   "execution_count": 8,
   "id": "31d1c22e",
   "metadata": {},
   "outputs": [
    {
     "name": "stdout",
     "output_type": "stream",
     "text": [
      "enter a stringthis will split\n",
      "['this', 'will', 'split']\n",
      ",this will split,this will split,\n"
     ]
    }
   ],
   "source": [
    "#3.Write a Python program to split and join a string?\n",
    "\n",
    "# spliting string\n",
    "input_string = input('enter a string')\n",
    "split_string = input_string.split()\n",
    "print(split_string)\n",
    "\n",
    "#joining string\n",
    "list1 = [',',',',',']\n",
    "join_string = input_string.join(list1)\n",
    "print(join_string)"
   ]
  },
  {
   "cell_type": "code",
   "execution_count": 14,
   "id": "c51b10fb",
   "metadata": {},
   "outputs": [
    {
     "name": "stdout",
     "output_type": "stream",
     "text": [
      "enter a binary string : hvyyivi101010\n",
      "The string is not binary string\n"
     ]
    }
   ],
   "source": [
    "#4.Write a Python to check if a given string is binary string or not?\n",
    "\n",
    "#Binary string : Binary string is a string wich contains 0's and 1's or only 0's or 1's --> for future reference\n",
    "input_binary_string = input('enter a binary string : ')\n",
    "reference_set1 = {'0','1'}\n",
    "reference_set2 = {'0'}\n",
    "reference_set3 = {'1'}\n",
    "temp_set = set(input_binary_string)\n",
    "if temp_set == reference_set1 or temp_set == reference_set2 or temp_set == reference_set3:\n",
    "    print('The string is binary string')\n",
    "else:\n",
    "    print('The string is not binary string')"
   ]
  },
  {
   "cell_type": "code",
   "execution_count": 18,
   "id": "a34b998b",
   "metadata": {},
   "outputs": [
    {
     "name": "stdout",
     "output_type": "stream",
     "text": [
      "enter a first string : this is my first string\n",
      "enter second string : this is my second string\n",
      "first\n",
      "second\n"
     ]
    }
   ],
   "source": [
    "#5.Write a Python program to find uncommon words from two Strings?\n",
    "first_string = input('enter a first string : ')\n",
    "second_string = input('enter second string : ')\n",
    "first_string_lis = first_string.split()\n",
    "second_string_lis = second_string.split()\n",
    "for i in first_string_lis:\n",
    "    if i not in second_string_lis:\n",
    "        print(i)\n",
    "for j in second_string_lis:\n",
    "    if j not in first_string_lis:\n",
    "        print(j)\n",
    "        \n"
   ]
  },
  {
   "cell_type": "code",
   "execution_count": 19,
   "id": "decd963c",
   "metadata": {},
   "outputs": [
    {
     "name": "stdout",
     "output_type": "stream",
     "text": [
      "enter a string : vamshi krishna\n",
      "['a', 's', 'h', 'i']\n"
     ]
    }
   ],
   "source": [
    "#6.Write a Python to find all duplicate characters in string?\n",
    "input_string = input('enter a string : ')\n",
    "lis = []\n",
    "for i in input_string:\n",
    "    if (input_string.count(i)) > 1 and (i not in lis):\n",
    "        lis.append(i)\n",
    "        \n",
    "print(lis)\n",
    "        \n",
    "        \n"
   ]
  },
  {
   "cell_type": "code",
   "execution_count": 9,
   "id": "21dce6de",
   "metadata": {},
   "outputs": [
    {
     "name": "stdout",
     "output_type": "stream",
     "text": [
      "enter a string : gctyfyu@@@\n",
      "String contains special characterstics\n"
     ]
    }
   ],
   "source": [
    "#7.Write a Python Program to check if a string contains any special character?\n",
    "input_string = input('enter a string : ')\n",
    "for i in input_string:\n",
    "    if (32 <= ord(i) <= 47) or (58 <= ord(i) <= 64) or (91 <= ord(i) <= 96) or (123 <= ord(i) <= 126):\n",
    "        count = count+1\n",
    "        if count >= 1:\n",
    "            print('String contains special characterstics')\n",
    "            break\n",
    "else:\n",
    "    print('string does not contain any special characterstics')\n",
    "\n"
   ]
  },
  {
   "cell_type": "code",
   "execution_count": null,
   "id": "f8d97932",
   "metadata": {},
   "outputs": [],
   "source": []
  },
  {
   "cell_type": "code",
   "execution_count": null,
   "id": "2cbee442",
   "metadata": {},
   "outputs": [],
   "source": []
  }
 ],
 "metadata": {
  "kernelspec": {
   "display_name": "Python 3 (ipykernel)",
   "language": "python",
   "name": "python3"
  },
  "language_info": {
   "codemirror_mode": {
    "name": "ipython",
    "version": 3
   },
   "file_extension": ".py",
   "mimetype": "text/x-python",
   "name": "python",
   "nbconvert_exporter": "python",
   "pygments_lexer": "ipython3",
   "version": "3.9.7"
  }
 },
 "nbformat": 4,
 "nbformat_minor": 5
}
