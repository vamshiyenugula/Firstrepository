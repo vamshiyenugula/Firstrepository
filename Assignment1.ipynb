{
 "cells": [
  {
   "cell_type": "markdown",
   "id": "34ad97aa",
   "metadata": {},
   "source": [
    "# Assignment_1"
   ]
  },
  {
   "cell_type": "markdown",
   "id": "259dfbc6",
   "metadata": {},
   "source": [
    "1. In the below elements which of them are values or an expression? eg:- values can be integer or string and expressions will be mathematical operators.\n",
    "* \n",
    "'hello'\n",
    "-87.8\n",
    "- \n",
    "/ \n",
    "+\n",
    "6 \n",
    "\n",
    "Ans:\n",
    "\n",
    "\n",
    "*,-,/,+ all these are mathematical experssions\n",
    "\n",
    "-87,6,'hello'these are values\n"
   ]
  },
  {
   "cell_type": "markdown",
   "id": "5c571de0",
   "metadata": {},
   "source": [
    "2. What is the difference between string and variable?\n",
    "\n",
    "Ans :\n",
    "\n",
    "\n",
    "String is a collection of characters . where varaible is a place holder which stores assigned value into memory by using varaible name we can access the value through out the session.\n",
    "  "
   ]
  },
  {
   "cell_type": "markdown",
   "id": "57290a8c",
   "metadata": {},
   "source": [
    "3. Describe three different data types.\n",
    "\n",
    "Ans:\n",
    "\n",
    "\n",
    "There are different datatypes in python\n",
    "\n",
    "\n",
    "1.int --> Which refers to integer data type i.e 1,2,3..\n",
    "\n",
    "\n",
    "2.str --> Which refers to string data type i.e 'hello' or \"hello\"\n",
    "\n",
    "\n",
    "3.float --> Floats represent floating point data i.e 1.33\n",
    "\n",
    "\n",
    "4.bool --> Represents boolean data type i.e True or False\n",
    "\n",
    "\n",
    "5.complex --> represents complex numbers i.e 1+2j\n",
    "\n",
    "\n",
    "6.list --> collections of elements with different data types , which is muttable i.e [1,2,3,4]\n",
    "\n",
    "\n",
    "7.tuple --> collections of elements with different data types , which is immuttable i.e (1,2,3,4)\n",
    "\n",
    "\n",
    "8.dictinoary --> it is an collection of key value pairs i.e {key1:value,key2:value}\n",
    "\n",
    "\n",
    "9.set --> collection of items which are unique i.e {1,2,3,4,'vamshi'}\n",
    "\n",
    "\n",
    "10.range --> which returns the range of values i.e range(1,10)"
   ]
  },
  {
   "cell_type": "markdown",
   "id": "ac14e692",
   "metadata": {},
   "source": [
    "4. What is an expression made up of? What do all expressions do?\n",
    "\n",
    "Ans:\n",
    "\n",
    "In my understanding expresions are made up of operators and values , expersions are used to perform actions(like addition ,substraction etc) on varaibles \n"
   ]
  },
  {
   "cell_type": "markdown",
   "id": "0b977dfb",
   "metadata": {},
   "source": [
    "5. This assignment statements, like spam = 10. What is the difference between an expression and a statement?\n",
    "\n",
    "for better understanding , if we consider below example\n",
    "\n",
    "\n",
    "spam = 10*20\n",
    "\n",
    "the part right to the = is called expression , and the entire line (spam = 10*20) is called statement\n",
    "\n",
    "The same is valid for spam = 10 also.\n",
    "\n",
    "\n",
    "10+20+30 --> this is an expression not statement\n"
   ]
  },
  {
   "cell_type": "markdown",
   "id": "968d9897",
   "metadata": {},
   "source": [
    "6. After running the following code, what does the variable bacon contain?\n",
    "bacon = 22\n",
    "bacon + 1\n",
    "\n",
    "Ans :\n",
    "\n",
    "23\n",
    "\n"
   ]
  },
  {
   "cell_type": "markdown",
   "id": "19bcf813",
   "metadata": {},
   "source": [
    "7. What should the values of the following two terms be?\n",
    "'spam' + 'spamspam'\n",
    "'spam' * 3\n",
    "\n",
    "Ans :\n",
    "\n",
    "First one string concatination 'spam' + 'spamspam' --> 'spamspamspam'\n",
    "\n",
    "second one is multiplication 'spam' * 3 --> 'spamspamspam'"
   ]
  },
  {
   "cell_type": "markdown",
   "id": "3ffc8641",
   "metadata": {},
   "source": [
    "8. Why is eggs a valid variable name while 100 is invalid?\n",
    "\n",
    "Ans:\n",
    "\n",
    "\n",
    "eggs is a valid way to use a variable name , it is not matching with keywords of python and it is also following community best praticies.\n",
    "\n",
    "100 is not a valid varaible because in python 100 means something , And the 1 st character in python varaible name should not be a digit \n"
   ]
  },
  {
   "cell_type": "markdown",
   "id": "7d1e5dd1",
   "metadata": {},
   "source": [
    "9. What three functions can be used to get the integer, floating-point number, or string version of a value?\n",
    "\n",
    "Ans :\n",
    "\n",
    "\n",
    "int() --> will get integer version of a value\n",
    "\n",
    "\n",
    "float() --> will get floating point version of an value\n",
    "\n",
    "str() --> will get string version of a value\n",
    "\n"
   ]
  },
  {
   "cell_type": "markdown",
   "id": "802181aa",
   "metadata": {},
   "source": [
    "10. Why does this expression cause an error? How can you fix it?\n",
    "'I have eaten ' + 99 + ' burritos.'\n",
    "\n",
    "Ans :\n",
    "\n",
    "This expression is causing error because we are trying to concatinate different datatypes , to solve this we can convert 99 to string \n",
    "\n",
    "we can do in 2 ways \n",
    "\n",
    "\n",
    "'I have eaten ' + str(99) + ' burritos.' --> bestpratice \n",
    "\n",
    "'I have eaten ' + '99' + ' burritos.'\n",
    "\n"
   ]
  }
 ],
 "metadata": {
  "kernelspec": {
   "display_name": "Python 3 (ipykernel)",
   "language": "python",
   "name": "python3"
  },
  "language_info": {
   "codemirror_mode": {
    "name": "ipython",
    "version": 3
   },
   "file_extension": ".py",
   "mimetype": "text/x-python",
   "name": "python",
   "nbconvert_exporter": "python",
   "pygments_lexer": "ipython3",
   "version": "3.9.7"
  }
 },
 "nbformat": 4,
 "nbformat_minor": 5
}
