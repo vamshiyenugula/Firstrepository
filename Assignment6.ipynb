{
 "cells": [
  {
   "cell_type": "markdown",
   "id": "9817905b",
   "metadata": {},
   "source": [
    "1. What are escape characters, and how do you use them?\n",
    "\n",
    "Ans:\n",
    "\n",
    "Escape characters are special characters which has some meaning , which performs some operations when used\n",
    "\n",
    "\\n --> will take to newline\n",
    "\n",
    "\\t --> will inset a tab space\n",
    "\n",
    "\\r --> carraige return\n",
    "\n",
    "\\b --> backspace"
   ]
  },
  {
   "cell_type": "markdown",
   "id": "85a883ff",
   "metadata": {},
   "source": [
    "2. What do the escape characters n and t stand for?\n",
    "\n",
    "Ans:\n",
    "\n",
    "\\n --> will take to newline\n",
    "\n",
    "\\t --> will inset a tab space\n",
    "\n"
   ]
  },
  {
   "cell_type": "markdown",
   "id": "4e1e082c",
   "metadata": {},
   "source": [
    "3. What is the way to include backslash characters in a string?\n",
    "\n",
    "Ans:\n",
    "\n",
    "\"hello  \\b world\"\n"
   ]
  },
  {
   "cell_type": "markdown",
   "id": "a2735371",
   "metadata": {},
   "source": [
    "4. The string \"Howl's Moving Castle\" is a correct value. Why isn't the single quote character in the word Howl's not escaped a problem?\n",
    "\n",
    "Ans:\n",
    "\n",
    "It is not giving any error because it was enclosed in \"\", we can use ' in \"\""
   ]
  },
  {
   "cell_type": "markdown",
   "id": "b6193026",
   "metadata": {},
   "source": [
    "5. How do you write a string of newlines if you don't want to use the n character?\n",
    "\n",
    "Ans:\n",
    "\n",
    "We can use s = '''\n",
    "here we can write nultiple lines\n",
    "here we can write multiple lines\n",
    "'''\n",
    "\n"
   ]
  },
  {
   "cell_type": "markdown",
   "id": "7799924a",
   "metadata": {},
   "source": [
    "'''\n",
    "6. What are the values of the given expressions?\n",
    "'Hello, world!'[1]\n",
    "'Hello, world!'[0:5]\n",
    "'Hello, world!'[:5]\n",
    "'Hello, world!'[3:]\n",
    "\n",
    "'''\n",
    "\n",
    "Ans:\n",
    "'Hello, world!'[1] --> e\n",
    "'Hello, world!'[0:5] --> Hello\n",
    "'Hello, world!'[:5] --> Hello\n",
    "'Hello, world!'[3:] --> o, world!\n",
    "\n",
    "\n"
   ]
  },
  {
   "cell_type": "markdown",
   "id": "ec7e43c1",
   "metadata": {},
   "source": [
    "'''\n",
    "7. What are the values of the following expressions?\n",
    "'Hello'.upper()\n",
    "'Hello'.upper().isupper()\n",
    "'Hello'.upper().lower()\n",
    "'''\n",
    "\n",
    "Ans:\n",
    "\n",
    "'Hello'.upper() -------------> HELLO\n",
    "'Hello'.upper().isupper()----> True\n",
    "'Hello'.upper().lower()------> False"
   ]
  },
  {
   "cell_type": "markdown",
   "id": "7d5f43dc",
   "metadata": {},
   "source": [
    "'''\n",
    "8. What are the values of the following expressions?\n",
    "'Remember, remember, the fifth of July.'.split()\n",
    "'-'.join('There can only one.'.split())\n",
    "'''\n",
    "\n",
    "Ans:\n",
    "\n",
    "'Remember, remember, the fifth of July.'.split()\n",
    "The above expression will return a list like ['Remember,','remember,','the','fifth','of','July.']\n",
    "\n",
    "'-'.join('There can only one.'.split())\n",
    "The above expression evaluated to be\n",
    "There-can-only-one.\n"
   ]
  },
  {
   "cell_type": "markdown",
   "id": "5b25a2a1",
   "metadata": {},
   "source": [
    "9. What are the methods for right-justifying, left-justifying, and centering a string?\n",
    "\n",
    "Ans:\n",
    "rjust() --> is the method for right justification\n",
    "ljust() --> is the method for left justification\n",
    "center()--> is the method used for centering a string\n",
    "\n"
   ]
  },
  {
   "cell_type": "markdown",
   "id": "1b0fdd84",
   "metadata": {},
   "source": [
    "10. What is the best way to remove whitespace characters from the start or end?\n",
    "\n",
    "Ans:\n",
    "We can remove whitespace from left by using lstrip()\n",
    "\n",
    "we can remove white space on the right by using rstrip()\n",
    "\n"
   ]
  }
 ],
 "metadata": {
  "kernelspec": {
   "display_name": "Python 3 (ipykernel)",
   "language": "python",
   "name": "python3"
  },
  "language_info": {
   "codemirror_mode": {
    "name": "ipython",
    "version": 3
   },
   "file_extension": ".py",
   "mimetype": "text/x-python",
   "name": "python",
   "nbconvert_exporter": "python",
   "pygments_lexer": "ipython3",
   "version": "3.9.7"
  }
 },
 "nbformat": 4,
 "nbformat_minor": 5
}
